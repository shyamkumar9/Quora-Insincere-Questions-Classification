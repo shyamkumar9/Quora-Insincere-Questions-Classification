{
  "nbformat": 4,
  "nbformat_minor": 0,
  "metadata": {
    "colab": {
      "name": "AML Final Project.ipynb",
      "provenance": [],
      "collapsed_sections": []
    },
    "kernelspec": {
      "name": "python3",
      "display_name": "Python 3"
    },
    "language_info": {
      "name": "python"
    }
  },
  "cells": [
    {
      "cell_type": "markdown",
      "source": [
        "### **Quora Insincere questions Classification**"
      ],
      "metadata": {
        "id": "FJmbhpuW9Zjw"
      }
    },
    {
      "cell_type": "markdown",
      "source": [
        "Importing the Libraries"
      ],
      "metadata": {
        "id": "zo0A0tbe4nCJ"
      }
    },
    {
      "cell_type": "code",
      "source": [
        "import pandas as pd\n",
        "import numpy as np\n",
        "import re\n",
        "import string\n",
        "from sklearn.model_selection import train_test_split,GridSearchCV\n",
        "from sklearn.feature_extraction.text import CountVectorizer,TfidfVectorizer\n",
        "from sklearn.linear_model import LogisticRegression\n",
        "from sklearn.naive_bayes import GaussianNB,MultinomialNB,ComplementNB\n",
        "from sklearn import metrics\n",
        "from sklearn.metrics import f1_score,confusion_matrix,accuracy_score, recall_score\n",
        "from scipy import sparse\n",
        "from nltk.corpus import stopwords\n",
        "from sklearn.preprocessing import StandardScaler\n",
        "import seaborn as sns\n",
        "import matplotlib.pyplot as plt\n",
        "from xgboost import XGBClassifier\n",
        "from sklearn.model_selection import RandomizedSearchCV\n",
        "from sklearn.svm import LinearSVC"
      ],
      "metadata": {
        "id": "8XOdMjm04kNd"
      },
      "execution_count": 43,
      "outputs": []
    },
    {
      "cell_type": "code",
      "source": [
        "import nltk\n",
        "nltk.download('stopwords')"
      ],
      "metadata": {
        "id": "peOjixdQQHaX",
        "colab": {
          "base_uri": "https://localhost:8080/"
        },
        "outputId": "9d58bb1a-5c0b-4bb1-a716-bf41b2b1157c"
      },
      "execution_count": null,
      "outputs": [
        {
          "output_type": "stream",
          "name": "stdout",
          "text": [
            "[nltk_data] Downloading package stopwords to /root/nltk_data...\n",
            "[nltk_data]   Unzipping corpora/stopwords.zip.\n"
          ]
        },
        {
          "output_type": "execute_result",
          "data": {
            "text/plain": [
              "True"
            ]
          },
          "metadata": {},
          "execution_count": 2
        }
      ]
    },
    {
      "cell_type": "markdown",
      "source": [
        "Reading the files"
      ],
      "metadata": {
        "id": "HSbrqy4w4FoB"
      }
    },
    {
      "cell_type": "code",
      "source": [
        "# #Embeddings\n",
        "# !wget http://nlp.stanford.edu/data/glove.6B.zip\n",
        "# !unzip glove*.zip"
      ],
      "metadata": {
        "id": "zuoOdRGgefQq"
      },
      "execution_count": null,
      "outputs": []
    },
    {
      "cell_type": "code",
      "source": [
        "!unzip train.csv.zip\n",
        "\n",
        "quora_train_df = pd.read_csv('train.csv')"
      ],
      "metadata": {
        "id": "-61963DtxAgg",
        "colab": {
          "base_uri": "https://localhost:8080/"
        },
        "outputId": "05827503-3fcf-4381-ee72-f760ec5f7522"
      },
      "execution_count": null,
      "outputs": [
        {
          "output_type": "stream",
          "name": "stdout",
          "text": [
            "Archive:  train.csv.zip\n",
            "  inflating: train.csv               \n"
          ]
        }
      ]
    },
    {
      "cell_type": "code",
      "source": [
        "quora_train_df.shape"
      ],
      "metadata": {
        "id": "l6Ffc-PWxBcQ",
        "colab": {
          "base_uri": "https://localhost:8080/"
        },
        "outputId": "fd50bae9-213f-4892-f239-5f33401f45e6"
      },
      "execution_count": null,
      "outputs": [
        {
          "output_type": "execute_result",
          "data": {
            "text/plain": [
              "(1306122, 3)"
            ]
          },
          "metadata": {},
          "execution_count": 4
        }
      ]
    },
    {
      "cell_type": "markdown",
      "source": [
        "**Data fields**\n",
        "\n",
        "**qid** → unique question identifier \\\n",
        "**question_text** → Quora question text \\\n",
        "**target** → a question labeled 'insincere' has a value of **1**, otherwise **0**\n",
        "\n",
        "An insincere question is defined as a question intended to make a statement rather than look for helpful answers\n"
      ],
      "metadata": {
        "id": "dksc_awU9olL"
      }
    },
    {
      "cell_type": "code",
      "source": [
        "quora_train_df.head()"
      ],
      "metadata": {
        "colab": {
          "base_uri": "https://localhost:8080/",
          "height": 206
        },
        "id": "eOMEYkBy5YO3",
        "outputId": "58509a20-f6bc-4ae1-b063-6f1ab544e07d"
      },
      "execution_count": null,
      "outputs": [
        {
          "output_type": "execute_result",
          "data": {
            "text/plain": [
              "                    qid                                      question_text  \\\n",
              "0  00002165364db923c7e6  How did Quebec nationalists see their province...   \n",
              "1  000032939017120e6e44  Do you have an adopted dog, how would you enco...   \n",
              "2  0000412ca6e4628ce2cf  Why does velocity affect time? Does velocity a...   \n",
              "3  000042bf85aa498cd78e  How did Otto von Guericke used the Magdeburg h...   \n",
              "4  0000455dfa3e01eae3af  Can I convert montra helicon D to a mountain b...   \n",
              "\n",
              "   target  \n",
              "0       0  \n",
              "1       0  \n",
              "2       0  \n",
              "3       0  \n",
              "4       0  "
            ],
            "text/html": [
              "\n",
              "  <div id=\"df-b487c710-0226-4fae-a95e-2097d871424c\">\n",
              "    <div class=\"colab-df-container\">\n",
              "      <div>\n",
              "<style scoped>\n",
              "    .dataframe tbody tr th:only-of-type {\n",
              "        vertical-align: middle;\n",
              "    }\n",
              "\n",
              "    .dataframe tbody tr th {\n",
              "        vertical-align: top;\n",
              "    }\n",
              "\n",
              "    .dataframe thead th {\n",
              "        text-align: right;\n",
              "    }\n",
              "</style>\n",
              "<table border=\"1\" class=\"dataframe\">\n",
              "  <thead>\n",
              "    <tr style=\"text-align: right;\">\n",
              "      <th></th>\n",
              "      <th>qid</th>\n",
              "      <th>question_text</th>\n",
              "      <th>target</th>\n",
              "    </tr>\n",
              "  </thead>\n",
              "  <tbody>\n",
              "    <tr>\n",
              "      <th>0</th>\n",
              "      <td>00002165364db923c7e6</td>\n",
              "      <td>How did Quebec nationalists see their province...</td>\n",
              "      <td>0</td>\n",
              "    </tr>\n",
              "    <tr>\n",
              "      <th>1</th>\n",
              "      <td>000032939017120e6e44</td>\n",
              "      <td>Do you have an adopted dog, how would you enco...</td>\n",
              "      <td>0</td>\n",
              "    </tr>\n",
              "    <tr>\n",
              "      <th>2</th>\n",
              "      <td>0000412ca6e4628ce2cf</td>\n",
              "      <td>Why does velocity affect time? Does velocity a...</td>\n",
              "      <td>0</td>\n",
              "    </tr>\n",
              "    <tr>\n",
              "      <th>3</th>\n",
              "      <td>000042bf85aa498cd78e</td>\n",
              "      <td>How did Otto von Guericke used the Magdeburg h...</td>\n",
              "      <td>0</td>\n",
              "    </tr>\n",
              "    <tr>\n",
              "      <th>4</th>\n",
              "      <td>0000455dfa3e01eae3af</td>\n",
              "      <td>Can I convert montra helicon D to a mountain b...</td>\n",
              "      <td>0</td>\n",
              "    </tr>\n",
              "  </tbody>\n",
              "</table>\n",
              "</div>\n",
              "      <button class=\"colab-df-convert\" onclick=\"convertToInteractive('df-b487c710-0226-4fae-a95e-2097d871424c')\"\n",
              "              title=\"Convert this dataframe to an interactive table.\"\n",
              "              style=\"display:none;\">\n",
              "        \n",
              "  <svg xmlns=\"http://www.w3.org/2000/svg\" height=\"24px\"viewBox=\"0 0 24 24\"\n",
              "       width=\"24px\">\n",
              "    <path d=\"M0 0h24v24H0V0z\" fill=\"none\"/>\n",
              "    <path d=\"M18.56 5.44l.94 2.06.94-2.06 2.06-.94-2.06-.94-.94-2.06-.94 2.06-2.06.94zm-11 1L8.5 8.5l.94-2.06 2.06-.94-2.06-.94L8.5 2.5l-.94 2.06-2.06.94zm10 10l.94 2.06.94-2.06 2.06-.94-2.06-.94-.94-2.06-.94 2.06-2.06.94z\"/><path d=\"M17.41 7.96l-1.37-1.37c-.4-.4-.92-.59-1.43-.59-.52 0-1.04.2-1.43.59L10.3 9.45l-7.72 7.72c-.78.78-.78 2.05 0 2.83L4 21.41c.39.39.9.59 1.41.59.51 0 1.02-.2 1.41-.59l7.78-7.78 2.81-2.81c.8-.78.8-2.07 0-2.86zM5.41 20L4 18.59l7.72-7.72 1.47 1.35L5.41 20z\"/>\n",
              "  </svg>\n",
              "      </button>\n",
              "      \n",
              "  <style>\n",
              "    .colab-df-container {\n",
              "      display:flex;\n",
              "      flex-wrap:wrap;\n",
              "      gap: 12px;\n",
              "    }\n",
              "\n",
              "    .colab-df-convert {\n",
              "      background-color: #E8F0FE;\n",
              "      border: none;\n",
              "      border-radius: 50%;\n",
              "      cursor: pointer;\n",
              "      display: none;\n",
              "      fill: #1967D2;\n",
              "      height: 32px;\n",
              "      padding: 0 0 0 0;\n",
              "      width: 32px;\n",
              "    }\n",
              "\n",
              "    .colab-df-convert:hover {\n",
              "      background-color: #E2EBFA;\n",
              "      box-shadow: 0px 1px 2px rgba(60, 64, 67, 0.3), 0px 1px 3px 1px rgba(60, 64, 67, 0.15);\n",
              "      fill: #174EA6;\n",
              "    }\n",
              "\n",
              "    [theme=dark] .colab-df-convert {\n",
              "      background-color: #3B4455;\n",
              "      fill: #D2E3FC;\n",
              "    }\n",
              "\n",
              "    [theme=dark] .colab-df-convert:hover {\n",
              "      background-color: #434B5C;\n",
              "      box-shadow: 0px 1px 3px 1px rgba(0, 0, 0, 0.15);\n",
              "      filter: drop-shadow(0px 1px 2px rgba(0, 0, 0, 0.3));\n",
              "      fill: #FFFFFF;\n",
              "    }\n",
              "  </style>\n",
              "\n",
              "      <script>\n",
              "        const buttonEl =\n",
              "          document.querySelector('#df-b487c710-0226-4fae-a95e-2097d871424c button.colab-df-convert');\n",
              "        buttonEl.style.display =\n",
              "          google.colab.kernel.accessAllowed ? 'block' : 'none';\n",
              "\n",
              "        async function convertToInteractive(key) {\n",
              "          const element = document.querySelector('#df-b487c710-0226-4fae-a95e-2097d871424c');\n",
              "          const dataTable =\n",
              "            await google.colab.kernel.invokeFunction('convertToInteractive',\n",
              "                                                     [key], {});\n",
              "          if (!dataTable) return;\n",
              "\n",
              "          const docLinkHtml = 'Like what you see? Visit the ' +\n",
              "            '<a target=\"_blank\" href=https://colab.research.google.com/notebooks/data_table.ipynb>data table notebook</a>'\n",
              "            + ' to learn more about interactive tables.';\n",
              "          element.innerHTML = '';\n",
              "          dataTable['output_type'] = 'display_data';\n",
              "          await google.colab.output.renderOutput(dataTable, element);\n",
              "          const docLink = document.createElement('div');\n",
              "          docLink.innerHTML = docLinkHtml;\n",
              "          element.appendChild(docLink);\n",
              "        }\n",
              "      </script>\n",
              "    </div>\n",
              "  </div>\n",
              "  "
            ]
          },
          "metadata": {},
          "execution_count": 5
        }
      ]
    },
    {
      "cell_type": "code",
      "source": [
        "quora_train_df.target.value_counts()"
      ],
      "metadata": {
        "colab": {
          "base_uri": "https://localhost:8080/"
        },
        "id": "dA81fmbM6wiS",
        "outputId": "3dee872a-bac7-411d-8453-406959538c9b"
      },
      "execution_count": null,
      "outputs": [
        {
          "output_type": "execute_result",
          "data": {
            "text/plain": [
              "0    1225312\n",
              "1      80810\n",
              "Name: target, dtype: int64"
            ]
          },
          "metadata": {},
          "execution_count": 6
        }
      ]
    },
    {
      "cell_type": "code",
      "source": [
        "def text_cleaning(text):\n",
        "\n",
        "    #remove punctuations\n",
        "    text = re.sub('[%s]' % re.escape(\"\"\"!\"#$%&'()*+,-./:;<=>@[\\]^_`{|}~\"\"\"), ' ', text) \n",
        "    #remove urls\n",
        "    text = re.sub('http\\S+\\s*', ' ', text)\n",
        "    #remove hashtags\n",
        "    text = re.sub('#\\S+', '', text)\n",
        "    #remove non-ascii characters\n",
        "    text = re.sub(r'[^\\x00-\\x7f]',r' ', text)\n",
        "    #remove mentions (i.e, @)\n",
        "    text = re.sub('@\\S+', '  ', text)\n",
        "    #remove extra whitespaces, wherever applicable\n",
        "    text = re.sub('\\s+', ' ',text)\n",
        "    #convert the text into lower\n",
        "    text = text.lower()\n",
        "\n",
        "    return text\n"
      ],
      "metadata": {
        "id": "pAHewZ085X-p"
      },
      "execution_count": null,
      "outputs": []
    },
    {
      "cell_type": "code",
      "source": [
        "def question_clean(quora_train_df):\n",
        "\n",
        "    clean_text = []\n",
        "\n",
        "    for question in quora_train_df.question_text.to_list():\n",
        "        clean_text.append(text_cleaning(question))\n",
        "\n",
        "    return clean_text"
      ],
      "metadata": {
        "id": "8ecfUyksdzkL"
      },
      "execution_count": null,
      "outputs": []
    },
    {
      "cell_type": "code",
      "source": [
        "cleaned_text = question_clean(quora_train_df)"
      ],
      "metadata": {
        "id": "w_GYfYj5iLre"
      },
      "execution_count": null,
      "outputs": []
    },
    {
      "cell_type": "code",
      "source": [
        "#adding a new column into the data frame for the cleaned questions\n",
        "quora_train_df['Cleaned_question_text'] = cleaned_text"
      ],
      "metadata": {
        "id": "pygOFwlAdzgm"
      },
      "execution_count": null,
      "outputs": []
    },
    {
      "cell_type": "markdown",
      "source": [
        "**writing the cleaned data into CSV file**"
      ],
      "metadata": {
        "id": "SqABA4Pb4-SF"
      }
    },
    {
      "cell_type": "code",
      "source": [
        "quora_train_df.to_csv('cleaned_train.csv')"
      ],
      "metadata": {
        "id": "1yHT4OzhdzeH"
      },
      "execution_count": null,
      "outputs": []
    },
    {
      "cell_type": "code",
      "source": [
        "cleaned_quora_df = pd.read_csv('cleaned_train.csv')"
      ],
      "metadata": {
        "id": "jNBlztx7qz13"
      },
      "execution_count": null,
      "outputs": []
    },
    {
      "cell_type": "code",
      "source": [
        "cleaned_quora_df.drop('Unnamed: 0',axis = 1, inplace = True)\n",
        "cleaned_quora_df.head()"
      ],
      "metadata": {
        "colab": {
          "base_uri": "https://localhost:8080/",
          "height": 206
        },
        "id": "J77PWfferEGS",
        "outputId": "776a8f35-04cd-4f54-dce5-fda0b543d900"
      },
      "execution_count": null,
      "outputs": [
        {
          "output_type": "execute_result",
          "data": {
            "text/plain": [
              "                    qid                                      question_text  \\\n",
              "0  00002165364db923c7e6  How did Quebec nationalists see their province...   \n",
              "1  000032939017120e6e44  Do you have an adopted dog, how would you enco...   \n",
              "2  0000412ca6e4628ce2cf  Why does velocity affect time? Does velocity a...   \n",
              "3  000042bf85aa498cd78e  How did Otto von Guericke used the Magdeburg h...   \n",
              "4  0000455dfa3e01eae3af  Can I convert montra helicon D to a mountain b...   \n",
              "\n",
              "   target                              Cleaned_question_text  \n",
              "0       0  how did quebec nationalists see their province...  \n",
              "1       0  do you have an adopted dog how would you encou...  \n",
              "2       0  why does velocity affect time? does velocity a...  \n",
              "3       0  how did otto von guericke used the magdeburg h...  \n",
              "4       0  can i convert montra helicon d to a mountain b...  "
            ],
            "text/html": [
              "\n",
              "  <div id=\"df-ec8637fa-50c7-4bc2-b4ef-9c253e9d1deb\">\n",
              "    <div class=\"colab-df-container\">\n",
              "      <div>\n",
              "<style scoped>\n",
              "    .dataframe tbody tr th:only-of-type {\n",
              "        vertical-align: middle;\n",
              "    }\n",
              "\n",
              "    .dataframe tbody tr th {\n",
              "        vertical-align: top;\n",
              "    }\n",
              "\n",
              "    .dataframe thead th {\n",
              "        text-align: right;\n",
              "    }\n",
              "</style>\n",
              "<table border=\"1\" class=\"dataframe\">\n",
              "  <thead>\n",
              "    <tr style=\"text-align: right;\">\n",
              "      <th></th>\n",
              "      <th>qid</th>\n",
              "      <th>question_text</th>\n",
              "      <th>target</th>\n",
              "      <th>Cleaned_question_text</th>\n",
              "    </tr>\n",
              "  </thead>\n",
              "  <tbody>\n",
              "    <tr>\n",
              "      <th>0</th>\n",
              "      <td>00002165364db923c7e6</td>\n",
              "      <td>How did Quebec nationalists see their province...</td>\n",
              "      <td>0</td>\n",
              "      <td>how did quebec nationalists see their province...</td>\n",
              "    </tr>\n",
              "    <tr>\n",
              "      <th>1</th>\n",
              "      <td>000032939017120e6e44</td>\n",
              "      <td>Do you have an adopted dog, how would you enco...</td>\n",
              "      <td>0</td>\n",
              "      <td>do you have an adopted dog how would you encou...</td>\n",
              "    </tr>\n",
              "    <tr>\n",
              "      <th>2</th>\n",
              "      <td>0000412ca6e4628ce2cf</td>\n",
              "      <td>Why does velocity affect time? Does velocity a...</td>\n",
              "      <td>0</td>\n",
              "      <td>why does velocity affect time? does velocity a...</td>\n",
              "    </tr>\n",
              "    <tr>\n",
              "      <th>3</th>\n",
              "      <td>000042bf85aa498cd78e</td>\n",
              "      <td>How did Otto von Guericke used the Magdeburg h...</td>\n",
              "      <td>0</td>\n",
              "      <td>how did otto von guericke used the magdeburg h...</td>\n",
              "    </tr>\n",
              "    <tr>\n",
              "      <th>4</th>\n",
              "      <td>0000455dfa3e01eae3af</td>\n",
              "      <td>Can I convert montra helicon D to a mountain b...</td>\n",
              "      <td>0</td>\n",
              "      <td>can i convert montra helicon d to a mountain b...</td>\n",
              "    </tr>\n",
              "  </tbody>\n",
              "</table>\n",
              "</div>\n",
              "      <button class=\"colab-df-convert\" onclick=\"convertToInteractive('df-ec8637fa-50c7-4bc2-b4ef-9c253e9d1deb')\"\n",
              "              title=\"Convert this dataframe to an interactive table.\"\n",
              "              style=\"display:none;\">\n",
              "        \n",
              "  <svg xmlns=\"http://www.w3.org/2000/svg\" height=\"24px\"viewBox=\"0 0 24 24\"\n",
              "       width=\"24px\">\n",
              "    <path d=\"M0 0h24v24H0V0z\" fill=\"none\"/>\n",
              "    <path d=\"M18.56 5.44l.94 2.06.94-2.06 2.06-.94-2.06-.94-.94-2.06-.94 2.06-2.06.94zm-11 1L8.5 8.5l.94-2.06 2.06-.94-2.06-.94L8.5 2.5l-.94 2.06-2.06.94zm10 10l.94 2.06.94-2.06 2.06-.94-2.06-.94-.94-2.06-.94 2.06-2.06.94z\"/><path d=\"M17.41 7.96l-1.37-1.37c-.4-.4-.92-.59-1.43-.59-.52 0-1.04.2-1.43.59L10.3 9.45l-7.72 7.72c-.78.78-.78 2.05 0 2.83L4 21.41c.39.39.9.59 1.41.59.51 0 1.02-.2 1.41-.59l7.78-7.78 2.81-2.81c.8-.78.8-2.07 0-2.86zM5.41 20L4 18.59l7.72-7.72 1.47 1.35L5.41 20z\"/>\n",
              "  </svg>\n",
              "      </button>\n",
              "      \n",
              "  <style>\n",
              "    .colab-df-container {\n",
              "      display:flex;\n",
              "      flex-wrap:wrap;\n",
              "      gap: 12px;\n",
              "    }\n",
              "\n",
              "    .colab-df-convert {\n",
              "      background-color: #E8F0FE;\n",
              "      border: none;\n",
              "      border-radius: 50%;\n",
              "      cursor: pointer;\n",
              "      display: none;\n",
              "      fill: #1967D2;\n",
              "      height: 32px;\n",
              "      padding: 0 0 0 0;\n",
              "      width: 32px;\n",
              "    }\n",
              "\n",
              "    .colab-df-convert:hover {\n",
              "      background-color: #E2EBFA;\n",
              "      box-shadow: 0px 1px 2px rgba(60, 64, 67, 0.3), 0px 1px 3px 1px rgba(60, 64, 67, 0.15);\n",
              "      fill: #174EA6;\n",
              "    }\n",
              "\n",
              "    [theme=dark] .colab-df-convert {\n",
              "      background-color: #3B4455;\n",
              "      fill: #D2E3FC;\n",
              "    }\n",
              "\n",
              "    [theme=dark] .colab-df-convert:hover {\n",
              "      background-color: #434B5C;\n",
              "      box-shadow: 0px 1px 3px 1px rgba(0, 0, 0, 0.15);\n",
              "      filter: drop-shadow(0px 1px 2px rgba(0, 0, 0, 0.3));\n",
              "      fill: #FFFFFF;\n",
              "    }\n",
              "  </style>\n",
              "\n",
              "      <script>\n",
              "        const buttonEl =\n",
              "          document.querySelector('#df-ec8637fa-50c7-4bc2-b4ef-9c253e9d1deb button.colab-df-convert');\n",
              "        buttonEl.style.display =\n",
              "          google.colab.kernel.accessAllowed ? 'block' : 'none';\n",
              "\n",
              "        async function convertToInteractive(key) {\n",
              "          const element = document.querySelector('#df-ec8637fa-50c7-4bc2-b4ef-9c253e9d1deb');\n",
              "          const dataTable =\n",
              "            await google.colab.kernel.invokeFunction('convertToInteractive',\n",
              "                                                     [key], {});\n",
              "          if (!dataTable) return;\n",
              "\n",
              "          const docLinkHtml = 'Like what you see? Visit the ' +\n",
              "            '<a target=\"_blank\" href=https://colab.research.google.com/notebooks/data_table.ipynb>data table notebook</a>'\n",
              "            + ' to learn more about interactive tables.';\n",
              "          element.innerHTML = '';\n",
              "          dataTable['output_type'] = 'display_data';\n",
              "          await google.colab.output.renderOutput(dataTable, element);\n",
              "          const docLink = document.createElement('div');\n",
              "          docLink.innerHTML = docLinkHtml;\n",
              "          element.appendChild(docLink);\n",
              "        }\n",
              "      </script>\n",
              "    </div>\n",
              "  </div>\n",
              "  "
            ]
          },
          "metadata": {},
          "execution_count": 13
        }
      ]
    },
    {
      "cell_type": "markdown",
      "source": [
        "**Feature Engineering**(Custom features)"
      ],
      "metadata": {
        "id": "jCrp9896L7ic"
      }
    },
    {
      "cell_type": "code",
      "source": [
        "#adding new features to the data \n",
        "#stopwords\n",
        "stop_words = set(stopwords.words('english'))\n",
        "\n",
        "#average length of each question\n",
        "cleaned_quora_df['avg_length'] = cleaned_quora_df['Cleaned_question_text'].apply(lambda x : np.mean([len(word) for word in str(x).split()]))\n",
        "#number of words in the each question\n",
        "cleaned_quora_df['Number_words'] = cleaned_quora_df[\"Cleaned_question_text\"].apply(lambda x: len(str(x).split()))\n",
        "#number of uniques words in the question \n",
        "cleaned_quora_df['unique_words'] = cleaned_quora_df[\"Cleaned_question_text\"].apply(lambda x: len(set(str(x).split())))\n",
        "#number of chracters in the question\n",
        "cleaned_quora_df['num_char'] = cleaned_quora_df[\"Cleaned_question_text\"].apply(lambda x: len(str(x)))\n",
        "#number of stopwords in the question\n",
        "cleaned_quora_df['num_of_stopwords'] = cleaned_quora_df[\"Cleaned_question_text\"].apply(lambda x: len([word for word in str(x).lower().split() \n",
        "                                        if word in stop_words]))\n",
        "#number of punctuations in the question\n",
        "cleaned_quora_df['num_of_punc'] = cleaned_quora_df[\"question_text\"].apply(lambda x: len([char for char in str(x) if char in string.punctuation]))\n",
        "#number of title case words in each question\n",
        "cleaned_quora_df['num_title_words'] = cleaned_quora_df[\"question_text\"].apply(lambda x: len([word for word in str(x).split() if word.istitle()]))\n"
      ],
      "metadata": {
        "colab": {
          "base_uri": "https://localhost:8080/"
        },
        "id": "XJ2c8-2qJ6OB",
        "outputId": "cb368d8c-ba00-471c-9c9a-0954e46ed1ab"
      },
      "execution_count": null,
      "outputs": [
        {
          "output_type": "stream",
          "name": "stderr",
          "text": [
            "/usr/local/lib/python3.7/dist-packages/numpy/core/fromnumeric.py:3441: RuntimeWarning: Mean of empty slice.\n",
            "  out=out, **kwargs)\n"
          ]
        }
      ]
    },
    {
      "cell_type": "code",
      "source": [
        "cleaned_quora_df.head()"
      ],
      "metadata": {
        "colab": {
          "base_uri": "https://localhost:8080/",
          "height": 531
        },
        "id": "7VfSUpqmJ6KY",
        "outputId": "5ce3e37d-ec73-4d13-a593-f89d06da1af8"
      },
      "execution_count": null,
      "outputs": [
        {
          "output_type": "execute_result",
          "data": {
            "text/plain": [
              "                    qid                                      question_text  \\\n",
              "0  00002165364db923c7e6  How did Quebec nationalists see their province...   \n",
              "1  000032939017120e6e44  Do you have an adopted dog, how would you enco...   \n",
              "2  0000412ca6e4628ce2cf  Why does velocity affect time? Does velocity a...   \n",
              "3  000042bf85aa498cd78e  How did Otto von Guericke used the Magdeburg h...   \n",
              "4  0000455dfa3e01eae3af  Can I convert montra helicon D to a mountain b...   \n",
              "\n",
              "   target                              Cleaned_question_text  avg_length  \\\n",
              "0       0  how did quebec nationalists see their province...    4.615385   \n",
              "1       0  do you have an adopted dog how would you encou...    4.062500   \n",
              "2       0  why does velocity affect time? does velocity a...    5.800000   \n",
              "3       0  how did otto von guericke used the magdeburg h...    5.444444   \n",
              "4       0  can i convert montra helicon d to a mountain b...    4.200000   \n",
              "\n",
              "   Number_words  unique_words  num_char  num_of_stopwords  num_of_punc  \\\n",
              "0            13            13        72                 7            1   \n",
              "1            16            15        80                 9            2   \n",
              "2            10             7        67                 3            2   \n",
              "3             9             9        57                 3            1   \n",
              "4            15            15        77                 8            1   \n",
              "\n",
              "   num_title_words  \n",
              "0                2  \n",
              "1                1  \n",
              "2                2  \n",
              "3                4  \n",
              "4                3  "
            ],
            "text/html": [
              "\n",
              "  <div id=\"df-1d8b8b4c-23df-429c-a8cb-978a9c7a1fde\">\n",
              "    <div class=\"colab-df-container\">\n",
              "      <div>\n",
              "<style scoped>\n",
              "    .dataframe tbody tr th:only-of-type {\n",
              "        vertical-align: middle;\n",
              "    }\n",
              "\n",
              "    .dataframe tbody tr th {\n",
              "        vertical-align: top;\n",
              "    }\n",
              "\n",
              "    .dataframe thead th {\n",
              "        text-align: right;\n",
              "    }\n",
              "</style>\n",
              "<table border=\"1\" class=\"dataframe\">\n",
              "  <thead>\n",
              "    <tr style=\"text-align: right;\">\n",
              "      <th></th>\n",
              "      <th>qid</th>\n",
              "      <th>question_text</th>\n",
              "      <th>target</th>\n",
              "      <th>Cleaned_question_text</th>\n",
              "      <th>avg_length</th>\n",
              "      <th>Number_words</th>\n",
              "      <th>unique_words</th>\n",
              "      <th>num_char</th>\n",
              "      <th>num_of_stopwords</th>\n",
              "      <th>num_of_punc</th>\n",
              "      <th>num_title_words</th>\n",
              "    </tr>\n",
              "  </thead>\n",
              "  <tbody>\n",
              "    <tr>\n",
              "      <th>0</th>\n",
              "      <td>00002165364db923c7e6</td>\n",
              "      <td>How did Quebec nationalists see their province...</td>\n",
              "      <td>0</td>\n",
              "      <td>how did quebec nationalists see their province...</td>\n",
              "      <td>4.615385</td>\n",
              "      <td>13</td>\n",
              "      <td>13</td>\n",
              "      <td>72</td>\n",
              "      <td>7</td>\n",
              "      <td>1</td>\n",
              "      <td>2</td>\n",
              "    </tr>\n",
              "    <tr>\n",
              "      <th>1</th>\n",
              "      <td>000032939017120e6e44</td>\n",
              "      <td>Do you have an adopted dog, how would you enco...</td>\n",
              "      <td>0</td>\n",
              "      <td>do you have an adopted dog how would you encou...</td>\n",
              "      <td>4.062500</td>\n",
              "      <td>16</td>\n",
              "      <td>15</td>\n",
              "      <td>80</td>\n",
              "      <td>9</td>\n",
              "      <td>2</td>\n",
              "      <td>1</td>\n",
              "    </tr>\n",
              "    <tr>\n",
              "      <th>2</th>\n",
              "      <td>0000412ca6e4628ce2cf</td>\n",
              "      <td>Why does velocity affect time? Does velocity a...</td>\n",
              "      <td>0</td>\n",
              "      <td>why does velocity affect time? does velocity a...</td>\n",
              "      <td>5.800000</td>\n",
              "      <td>10</td>\n",
              "      <td>7</td>\n",
              "      <td>67</td>\n",
              "      <td>3</td>\n",
              "      <td>2</td>\n",
              "      <td>2</td>\n",
              "    </tr>\n",
              "    <tr>\n",
              "      <th>3</th>\n",
              "      <td>000042bf85aa498cd78e</td>\n",
              "      <td>How did Otto von Guericke used the Magdeburg h...</td>\n",
              "      <td>0</td>\n",
              "      <td>how did otto von guericke used the magdeburg h...</td>\n",
              "      <td>5.444444</td>\n",
              "      <td>9</td>\n",
              "      <td>9</td>\n",
              "      <td>57</td>\n",
              "      <td>3</td>\n",
              "      <td>1</td>\n",
              "      <td>4</td>\n",
              "    </tr>\n",
              "    <tr>\n",
              "      <th>4</th>\n",
              "      <td>0000455dfa3e01eae3af</td>\n",
              "      <td>Can I convert montra helicon D to a mountain b...</td>\n",
              "      <td>0</td>\n",
              "      <td>can i convert montra helicon d to a mountain b...</td>\n",
              "      <td>4.200000</td>\n",
              "      <td>15</td>\n",
              "      <td>15</td>\n",
              "      <td>77</td>\n",
              "      <td>8</td>\n",
              "      <td>1</td>\n",
              "      <td>3</td>\n",
              "    </tr>\n",
              "  </tbody>\n",
              "</table>\n",
              "</div>\n",
              "      <button class=\"colab-df-convert\" onclick=\"convertToInteractive('df-1d8b8b4c-23df-429c-a8cb-978a9c7a1fde')\"\n",
              "              title=\"Convert this dataframe to an interactive table.\"\n",
              "              style=\"display:none;\">\n",
              "        \n",
              "  <svg xmlns=\"http://www.w3.org/2000/svg\" height=\"24px\"viewBox=\"0 0 24 24\"\n",
              "       width=\"24px\">\n",
              "    <path d=\"M0 0h24v24H0V0z\" fill=\"none\"/>\n",
              "    <path d=\"M18.56 5.44l.94 2.06.94-2.06 2.06-.94-2.06-.94-.94-2.06-.94 2.06-2.06.94zm-11 1L8.5 8.5l.94-2.06 2.06-.94-2.06-.94L8.5 2.5l-.94 2.06-2.06.94zm10 10l.94 2.06.94-2.06 2.06-.94-2.06-.94-.94-2.06-.94 2.06-2.06.94z\"/><path d=\"M17.41 7.96l-1.37-1.37c-.4-.4-.92-.59-1.43-.59-.52 0-1.04.2-1.43.59L10.3 9.45l-7.72 7.72c-.78.78-.78 2.05 0 2.83L4 21.41c.39.39.9.59 1.41.59.51 0 1.02-.2 1.41-.59l7.78-7.78 2.81-2.81c.8-.78.8-2.07 0-2.86zM5.41 20L4 18.59l7.72-7.72 1.47 1.35L5.41 20z\"/>\n",
              "  </svg>\n",
              "      </button>\n",
              "      \n",
              "  <style>\n",
              "    .colab-df-container {\n",
              "      display:flex;\n",
              "      flex-wrap:wrap;\n",
              "      gap: 12px;\n",
              "    }\n",
              "\n",
              "    .colab-df-convert {\n",
              "      background-color: #E8F0FE;\n",
              "      border: none;\n",
              "      border-radius: 50%;\n",
              "      cursor: pointer;\n",
              "      display: none;\n",
              "      fill: #1967D2;\n",
              "      height: 32px;\n",
              "      padding: 0 0 0 0;\n",
              "      width: 32px;\n",
              "    }\n",
              "\n",
              "    .colab-df-convert:hover {\n",
              "      background-color: #E2EBFA;\n",
              "      box-shadow: 0px 1px 2px rgba(60, 64, 67, 0.3), 0px 1px 3px 1px rgba(60, 64, 67, 0.15);\n",
              "      fill: #174EA6;\n",
              "    }\n",
              "\n",
              "    [theme=dark] .colab-df-convert {\n",
              "      background-color: #3B4455;\n",
              "      fill: #D2E3FC;\n",
              "    }\n",
              "\n",
              "    [theme=dark] .colab-df-convert:hover {\n",
              "      background-color: #434B5C;\n",
              "      box-shadow: 0px 1px 3px 1px rgba(0, 0, 0, 0.15);\n",
              "      filter: drop-shadow(0px 1px 2px rgba(0, 0, 0, 0.3));\n",
              "      fill: #FFFFFF;\n",
              "    }\n",
              "  </style>\n",
              "\n",
              "      <script>\n",
              "        const buttonEl =\n",
              "          document.querySelector('#df-1d8b8b4c-23df-429c-a8cb-978a9c7a1fde button.colab-df-convert');\n",
              "        buttonEl.style.display =\n",
              "          google.colab.kernel.accessAllowed ? 'block' : 'none';\n",
              "\n",
              "        async function convertToInteractive(key) {\n",
              "          const element = document.querySelector('#df-1d8b8b4c-23df-429c-a8cb-978a9c7a1fde');\n",
              "          const dataTable =\n",
              "            await google.colab.kernel.invokeFunction('convertToInteractive',\n",
              "                                                     [key], {});\n",
              "          if (!dataTable) return;\n",
              "\n",
              "          const docLinkHtml = 'Like what you see? Visit the ' +\n",
              "            '<a target=\"_blank\" href=https://colab.research.google.com/notebooks/data_table.ipynb>data table notebook</a>'\n",
              "            + ' to learn more about interactive tables.';\n",
              "          element.innerHTML = '';\n",
              "          dataTable['output_type'] = 'display_data';\n",
              "          await google.colab.output.renderOutput(dataTable, element);\n",
              "          const docLink = document.createElement('div');\n",
              "          docLink.innerHTML = docLinkHtml;\n",
              "          element.appendChild(docLink);\n",
              "        }\n",
              "      </script>\n",
              "    </div>\n",
              "  </div>\n",
              "  "
            ]
          },
          "metadata": {},
          "execution_count": 15
        }
      ]
    },
    {
      "cell_type": "code",
      "source": [
        "cleaned_quora_df.shape"
      ],
      "metadata": {
        "colab": {
          "base_uri": "https://localhost:8080/"
        },
        "id": "9DsCJE0MhMvE",
        "outputId": "47ff15d0-ed52-48d7-ecfa-b92cb003f0f4"
      },
      "execution_count": null,
      "outputs": [
        {
          "output_type": "execute_result",
          "data": {
            "text/plain": [
              "(1306122, 11)"
            ]
          },
          "metadata": {},
          "execution_count": 16
        }
      ]
    },
    {
      "cell_type": "code",
      "source": [
        "#dropping the rows with null vlaues\n",
        "cleaned_quora_df = cleaned_quora_df.dropna(axis=0, subset=['avg_length'])"
      ],
      "metadata": {
        "id": "9tcgAvNLeYev"
      },
      "execution_count": null,
      "outputs": []
    },
    {
      "cell_type": "code",
      "source": [
        "cleaned_quora_df.shape"
      ],
      "metadata": {
        "colab": {
          "base_uri": "https://localhost:8080/"
        },
        "id": "X0VMuDD9gfgD",
        "outputId": "44acf2b5-7c69-4232-939b-05bc6a1b3b52"
      },
      "execution_count": null,
      "outputs": [
        {
          "output_type": "execute_result",
          "data": {
            "text/plain": [
              "(1306121, 11)"
            ]
          },
          "metadata": {},
          "execution_count": 18
        }
      ]
    },
    {
      "cell_type": "markdown",
      "source": [
        "**splitting the data**"
      ],
      "metadata": {
        "id": "j9hP4WOUp6CU"
      }
    },
    {
      "cell_type": "code",
      "source": [
        "X_train, X_test, y_train, y_test = train_test_split(cleaned_quora_df, cleaned_quora_df['target'],stratify=cleaned_quora_df['target'], test_size=0.33, random_state=42)"
      ],
      "metadata": {
        "id": "kdVqgnkIZsvw"
      },
      "execution_count": null,
      "outputs": []
    },
    {
      "cell_type": "code",
      "source": [
        "X_train.head()"
      ],
      "metadata": {
        "colab": {
          "base_uri": "https://localhost:8080/",
          "height": 496
        },
        "id": "h4vRgmUAJ2tw",
        "outputId": "2172b5f8-2390-4a91-8430-c9544a1a617d"
      },
      "execution_count": null,
      "outputs": [
        {
          "output_type": "execute_result",
          "data": {
            "text/plain": [
              "                          qid  \\\n",
              "552350   6c388e9b95bc18e6fc55   \n",
              "1162169  e3b6e456e8c2d6d47a72   \n",
              "568102   6f51deac9f2048c0f38f   \n",
              "440031   563c0b590cd95bd84b8d   \n",
              "237922   2e898e1797cea7d491d3   \n",
              "\n",
              "                                             question_text  target  \\\n",
              "552350                What's the function of polar bodies?       0   \n",
              "1162169  How do I begin everything from a new start in ...       0   \n",
              "568102                   How much cholesterol is too much?       0   \n",
              "440031   What are the options to deliver scripts to Ind...       0   \n",
              "237922   Which insurance company in India provide healt...       0   \n",
              "\n",
              "                                     Cleaned_question_text  avg_length  \\\n",
              "552350                what s the function of polar bodies?    4.285714   \n",
              "1162169  how do i begin everything from a new start in ...    4.000000   \n",
              "568102                   how much cholesterol is too much?    4.666667   \n",
              "440031   what are the options to deliver scripts to ind...    4.636364   \n",
              "237922   which insurance company in india provide healt...    6.300000   \n",
              "\n",
              "         Number_words  unique_words  num_char  num_of_stopwords  num_of_punc  \\\n",
              "552350              7             7        36                 4            2   \n",
              "1162169            12            12        59                 6            1   \n",
              "568102              6             6        33                 3            1   \n",
              "440031             11            10        61                 5            1   \n",
              "237922             10             9        72                 3            1   \n",
              "\n",
              "         num_title_words  \n",
              "552350                 0  \n",
              "1162169                2  \n",
              "568102                 1  \n",
              "440031                 2  \n",
              "237922                 2  "
            ],
            "text/html": [
              "\n",
              "  <div id=\"df-9ad70e67-58a3-44e6-ad3c-2c1aa5a9d3d3\">\n",
              "    <div class=\"colab-df-container\">\n",
              "      <div>\n",
              "<style scoped>\n",
              "    .dataframe tbody tr th:only-of-type {\n",
              "        vertical-align: middle;\n",
              "    }\n",
              "\n",
              "    .dataframe tbody tr th {\n",
              "        vertical-align: top;\n",
              "    }\n",
              "\n",
              "    .dataframe thead th {\n",
              "        text-align: right;\n",
              "    }\n",
              "</style>\n",
              "<table border=\"1\" class=\"dataframe\">\n",
              "  <thead>\n",
              "    <tr style=\"text-align: right;\">\n",
              "      <th></th>\n",
              "      <th>qid</th>\n",
              "      <th>question_text</th>\n",
              "      <th>target</th>\n",
              "      <th>Cleaned_question_text</th>\n",
              "      <th>avg_length</th>\n",
              "      <th>Number_words</th>\n",
              "      <th>unique_words</th>\n",
              "      <th>num_char</th>\n",
              "      <th>num_of_stopwords</th>\n",
              "      <th>num_of_punc</th>\n",
              "      <th>num_title_words</th>\n",
              "    </tr>\n",
              "  </thead>\n",
              "  <tbody>\n",
              "    <tr>\n",
              "      <th>552350</th>\n",
              "      <td>6c388e9b95bc18e6fc55</td>\n",
              "      <td>What's the function of polar bodies?</td>\n",
              "      <td>0</td>\n",
              "      <td>what s the function of polar bodies?</td>\n",
              "      <td>4.285714</td>\n",
              "      <td>7</td>\n",
              "      <td>7</td>\n",
              "      <td>36</td>\n",
              "      <td>4</td>\n",
              "      <td>2</td>\n",
              "      <td>0</td>\n",
              "    </tr>\n",
              "    <tr>\n",
              "      <th>1162169</th>\n",
              "      <td>e3b6e456e8c2d6d47a72</td>\n",
              "      <td>How do I begin everything from a new start in ...</td>\n",
              "      <td>0</td>\n",
              "      <td>how do i begin everything from a new start in ...</td>\n",
              "      <td>4.000000</td>\n",
              "      <td>12</td>\n",
              "      <td>12</td>\n",
              "      <td>59</td>\n",
              "      <td>6</td>\n",
              "      <td>1</td>\n",
              "      <td>2</td>\n",
              "    </tr>\n",
              "    <tr>\n",
              "      <th>568102</th>\n",
              "      <td>6f51deac9f2048c0f38f</td>\n",
              "      <td>How much cholesterol is too much?</td>\n",
              "      <td>0</td>\n",
              "      <td>how much cholesterol is too much?</td>\n",
              "      <td>4.666667</td>\n",
              "      <td>6</td>\n",
              "      <td>6</td>\n",
              "      <td>33</td>\n",
              "      <td>3</td>\n",
              "      <td>1</td>\n",
              "      <td>1</td>\n",
              "    </tr>\n",
              "    <tr>\n",
              "      <th>440031</th>\n",
              "      <td>563c0b590cd95bd84b8d</td>\n",
              "      <td>What are the options to deliver scripts to Ind...</td>\n",
              "      <td>0</td>\n",
              "      <td>what are the options to deliver scripts to ind...</td>\n",
              "      <td>4.636364</td>\n",
              "      <td>11</td>\n",
              "      <td>10</td>\n",
              "      <td>61</td>\n",
              "      <td>5</td>\n",
              "      <td>1</td>\n",
              "      <td>2</td>\n",
              "    </tr>\n",
              "    <tr>\n",
              "      <th>237922</th>\n",
              "      <td>2e898e1797cea7d491d3</td>\n",
              "      <td>Which insurance company in India provide healt...</td>\n",
              "      <td>0</td>\n",
              "      <td>which insurance company in india provide healt...</td>\n",
              "      <td>6.300000</td>\n",
              "      <td>10</td>\n",
              "      <td>9</td>\n",
              "      <td>72</td>\n",
              "      <td>3</td>\n",
              "      <td>1</td>\n",
              "      <td>2</td>\n",
              "    </tr>\n",
              "  </tbody>\n",
              "</table>\n",
              "</div>\n",
              "      <button class=\"colab-df-convert\" onclick=\"convertToInteractive('df-9ad70e67-58a3-44e6-ad3c-2c1aa5a9d3d3')\"\n",
              "              title=\"Convert this dataframe to an interactive table.\"\n",
              "              style=\"display:none;\">\n",
              "        \n",
              "  <svg xmlns=\"http://www.w3.org/2000/svg\" height=\"24px\"viewBox=\"0 0 24 24\"\n",
              "       width=\"24px\">\n",
              "    <path d=\"M0 0h24v24H0V0z\" fill=\"none\"/>\n",
              "    <path d=\"M18.56 5.44l.94 2.06.94-2.06 2.06-.94-2.06-.94-.94-2.06-.94 2.06-2.06.94zm-11 1L8.5 8.5l.94-2.06 2.06-.94-2.06-.94L8.5 2.5l-.94 2.06-2.06.94zm10 10l.94 2.06.94-2.06 2.06-.94-2.06-.94-.94-2.06-.94 2.06-2.06.94z\"/><path d=\"M17.41 7.96l-1.37-1.37c-.4-.4-.92-.59-1.43-.59-.52 0-1.04.2-1.43.59L10.3 9.45l-7.72 7.72c-.78.78-.78 2.05 0 2.83L4 21.41c.39.39.9.59 1.41.59.51 0 1.02-.2 1.41-.59l7.78-7.78 2.81-2.81c.8-.78.8-2.07 0-2.86zM5.41 20L4 18.59l7.72-7.72 1.47 1.35L5.41 20z\"/>\n",
              "  </svg>\n",
              "      </button>\n",
              "      \n",
              "  <style>\n",
              "    .colab-df-container {\n",
              "      display:flex;\n",
              "      flex-wrap:wrap;\n",
              "      gap: 12px;\n",
              "    }\n",
              "\n",
              "    .colab-df-convert {\n",
              "      background-color: #E8F0FE;\n",
              "      border: none;\n",
              "      border-radius: 50%;\n",
              "      cursor: pointer;\n",
              "      display: none;\n",
              "      fill: #1967D2;\n",
              "      height: 32px;\n",
              "      padding: 0 0 0 0;\n",
              "      width: 32px;\n",
              "    }\n",
              "\n",
              "    .colab-df-convert:hover {\n",
              "      background-color: #E2EBFA;\n",
              "      box-shadow: 0px 1px 2px rgba(60, 64, 67, 0.3), 0px 1px 3px 1px rgba(60, 64, 67, 0.15);\n",
              "      fill: #174EA6;\n",
              "    }\n",
              "\n",
              "    [theme=dark] .colab-df-convert {\n",
              "      background-color: #3B4455;\n",
              "      fill: #D2E3FC;\n",
              "    }\n",
              "\n",
              "    [theme=dark] .colab-df-convert:hover {\n",
              "      background-color: #434B5C;\n",
              "      box-shadow: 0px 1px 3px 1px rgba(0, 0, 0, 0.15);\n",
              "      filter: drop-shadow(0px 1px 2px rgba(0, 0, 0, 0.3));\n",
              "      fill: #FFFFFF;\n",
              "    }\n",
              "  </style>\n",
              "\n",
              "      <script>\n",
              "        const buttonEl =\n",
              "          document.querySelector('#df-9ad70e67-58a3-44e6-ad3c-2c1aa5a9d3d3 button.colab-df-convert');\n",
              "        buttonEl.style.display =\n",
              "          google.colab.kernel.accessAllowed ? 'block' : 'none';\n",
              "\n",
              "        async function convertToInteractive(key) {\n",
              "          const element = document.querySelector('#df-9ad70e67-58a3-44e6-ad3c-2c1aa5a9d3d3');\n",
              "          const dataTable =\n",
              "            await google.colab.kernel.invokeFunction('convertToInteractive',\n",
              "                                                     [key], {});\n",
              "          if (!dataTable) return;\n",
              "\n",
              "          const docLinkHtml = 'Like what you see? Visit the ' +\n",
              "            '<a target=\"_blank\" href=https://colab.research.google.com/notebooks/data_table.ipynb>data table notebook</a>'\n",
              "            + ' to learn more about interactive tables.';\n",
              "          element.innerHTML = '';\n",
              "          dataTable['output_type'] = 'display_data';\n",
              "          await google.colab.output.renderOutput(dataTable, element);\n",
              "          const docLink = document.createElement('div');\n",
              "          docLink.innerHTML = docLinkHtml;\n",
              "          element.appendChild(docLink);\n",
              "        }\n",
              "      </script>\n",
              "    </div>\n",
              "  </div>\n",
              "  "
            ]
          },
          "metadata": {},
          "execution_count": 20
        }
      ]
    },
    {
      "cell_type": "code",
      "source": [
        "print(y_train.value_counts())\n",
        "print(y_test.value_counts())\n",
        "print(X_train.shape)\n",
        "print(X_test.shape)"
      ],
      "metadata": {
        "colab": {
          "base_uri": "https://localhost:8080/"
        },
        "id": "Zq7N1bL1ZstW",
        "outputId": "e6d90a82-bdc8-4009-f509-3e9718fdd26b"
      },
      "execution_count": null,
      "outputs": [
        {
          "output_type": "stream",
          "name": "stdout",
          "text": [
            "0    820959\n",
            "1     54142\n",
            "Name: target, dtype: int64\n",
            "0    404353\n",
            "1     26667\n",
            "Name: target, dtype: int64\n",
            "(875101, 11)\n",
            "(431020, 11)\n"
          ]
        }
      ]
    },
    {
      "cell_type": "code",
      "source": [
        "#creating a dataframe for custom features\n",
        "custom_features_train = X_train[[\"avg_length\",\"Number_words\",\"unique_words\",\"num_char\",\"num_of_stopwords\",\"num_of_punc\",\"num_title_words\"]]\n",
        "custom_features_test = X_test[[\"avg_length\",\"Number_words\",\"unique_words\",\"num_char\",\"num_of_stopwords\",\"num_of_punc\",\"num_title_words\"]]"
      ],
      "metadata": {
        "id": "I7hANosOZxzD"
      },
      "execution_count": null,
      "outputs": []
    },
    {
      "cell_type": "markdown",
      "source": [
        "**Count Vectorizer**\n",
        "\n",
        "Building a baseline model (Logistic Regression) with  count vectorizer"
      ],
      "metadata": {
        "id": "wcQn63czs6Bp"
      }
    },
    {
      "cell_type": "code",
      "source": [
        "vectorizer_lr = CountVectorizer(min_df=3)"
      ],
      "metadata": {
        "id": "Ec36WrAZswpG"
      },
      "execution_count": null,
      "outputs": []
    },
    {
      "cell_type": "code",
      "source": [
        "X_cv_train = vectorizer_lr.fit_transform(X_train['Cleaned_question_text'])\n",
        "X_cv_test = vectorizer_lr.transform(X_test['Cleaned_question_text'])"
      ],
      "metadata": {
        "id": "7n9egz5nGoja"
      },
      "execution_count": null,
      "outputs": []
    },
    {
      "cell_type": "code",
      "source": [
        "print(X_cv_train.shape)\n",
        "print(X_cv_test.shape)"
      ],
      "metadata": {
        "colab": {
          "base_uri": "https://localhost:8080/"
        },
        "id": "ze3bwoV5swFi",
        "outputId": "59194c1a-4cbf-4738-ca23-4837008885bc"
      },
      "execution_count": null,
      "outputs": [
        {
          "output_type": "stream",
          "name": "stdout",
          "text": [
            "(875101, 55837)\n",
            "(431020, 55837)\n"
          ]
        }
      ]
    },
    {
      "cell_type": "code",
      "source": [
        "#combined matrix with count vectors and custom features\n",
        "X_train_df = sparse.hstack([X_cv_train,custom_features_train])\n",
        "X_test_df = sparse.hstack([X_cv_test,custom_features_test])"
      ],
      "metadata": {
        "id": "U_iP_FgZcku2"
      },
      "execution_count": null,
      "outputs": []
    },
    {
      "cell_type": "code",
      "source": [
        "print(X_train_df.shape)\n",
        "print(X_test_df.shape)"
      ],
      "metadata": {
        "colab": {
          "base_uri": "https://localhost:8080/"
        },
        "id": "Q_Kyyyu4ckrc",
        "outputId": "66f550a5-4f85-41b1-c769-e96cf3044246"
      },
      "execution_count": null,
      "outputs": [
        {
          "output_type": "stream",
          "name": "stdout",
          "text": [
            "(875101, 55844)\n",
            "(431020, 55844)\n"
          ]
        }
      ]
    },
    {
      "cell_type": "markdown",
      "source": [
        "Standardization on the data:"
      ],
      "metadata": {
        "id": "A1IAQgkgAzPH"
      }
    },
    {
      "cell_type": "code",
      "source": [
        "scalar = StandardScaler(with_mean = False)\n",
        "\n",
        "ss_train_data = scalar.fit_transform(X_train_df)\n",
        "ss_test_data = scalar.transform(X_test_df)"
      ],
      "metadata": {
        "id": "QUHEVZSSAxwW"
      },
      "execution_count": null,
      "outputs": []
    },
    {
      "cell_type": "code",
      "source": [
        "print(ss_train_data.shape)\n",
        "print(ss_test_data.shape)"
      ],
      "metadata": {
        "colab": {
          "base_uri": "https://localhost:8080/"
        },
        "id": "tXP6X8ACD1ho",
        "outputId": "2c34e0cb-fbf4-457f-845a-5a24777a8f95"
      },
      "execution_count": null,
      "outputs": [
        {
          "output_type": "stream",
          "name": "stdout",
          "text": [
            "(875101, 55844)\n",
            "(431020, 55844)\n"
          ]
        }
      ]
    },
    {
      "cell_type": "markdown",
      "source": [
        "#### **Tf-idf Vectorizer**\n",
        "Building a baseline model (Logistic Regression) with TFIDF vectors"
      ],
      "metadata": {
        "id": "WoMPYsQsihdG"
      }
    },
    {
      "cell_type": "code",
      "source": [
        "vectorizer_tfidf = TfidfVectorizer(stop_words='english', ngram_range=(1,3),min_df = 3,max_features=50000)"
      ],
      "metadata": {
        "id": "fJKFhWPGihdH"
      },
      "execution_count": null,
      "outputs": []
    },
    {
      "cell_type": "code",
      "source": [
        "X_train_tf_idf = vectorizer_tfidf.fit_transform(X_train['Cleaned_question_text'])\n",
        "X_test_tf_idf = vectorizer_tfidf.transform(X_test['Cleaned_question_text'])"
      ],
      "metadata": {
        "id": "CiasvBfaihdH"
      },
      "execution_count": null,
      "outputs": []
    },
    {
      "cell_type": "code",
      "source": [
        "print(X_train_tf_idf.shape)\n",
        "print(X_test_tf_idf.shape)"
      ],
      "metadata": {
        "colab": {
          "base_uri": "https://localhost:8080/"
        },
        "outputId": "6c63591f-e80e-4d6d-c3e8-c0a65c44794a",
        "id": "Lp-z90RuihdH"
      },
      "execution_count": null,
      "outputs": [
        {
          "output_type": "stream",
          "name": "stdout",
          "text": [
            "(875101, 50000)\n",
            "(431020, 50000)\n"
          ]
        }
      ]
    },
    {
      "cell_type": "markdown",
      "source": [
        "Combining the custom features and tf-idf vecctors"
      ],
      "metadata": {
        "id": "8gCBe7E_ihdH"
      }
    },
    {
      "cell_type": "code",
      "source": [
        "X_train_tf = sparse.hstack([X_train_tf_idf,custom_features_train])\n",
        "X_test_tf = sparse.hstack([X_test_tf_idf,custom_features_test])"
      ],
      "metadata": {
        "id": "6HWLnUUjihdH"
      },
      "execution_count": null,
      "outputs": []
    },
    {
      "cell_type": "code",
      "source": [
        "print(X_train_tf.shape)\n",
        "print(X_test_tf.shape)"
      ],
      "metadata": {
        "colab": {
          "base_uri": "https://localhost:8080/"
        },
        "outputId": "7a43f489-f442-4fd6-b449-7b3052b77cba",
        "id": "cLSSkMJZihdI"
      },
      "execution_count": null,
      "outputs": [
        {
          "output_type": "stream",
          "name": "stdout",
          "text": [
            "(875101, 50007)\n",
            "(431020, 50007)\n"
          ]
        }
      ]
    },
    {
      "cell_type": "markdown",
      "source": [
        "Standardization"
      ],
      "metadata": {
        "id": "38tFdWt2ihdI"
      }
    },
    {
      "cell_type": "code",
      "source": [
        "scalar = StandardScaler(with_mean = False)\n",
        "\n",
        "ss_train_data_tf = scalar.fit_transform(X_train_tf)\n",
        "ss_test_data_tf = scalar.transform(X_test_tf)"
      ],
      "metadata": {
        "id": "NX0M28jjihdI"
      },
      "execution_count": null,
      "outputs": []
    },
    {
      "cell_type": "code",
      "source": [
        "print(ss_train_data_tf.shape)\n",
        "print(ss_test_data_tf.shape)"
      ],
      "metadata": {
        "colab": {
          "base_uri": "https://localhost:8080/"
        },
        "outputId": "78527e37-8850-449c-8c66-b0cd4588c107",
        "id": "50If06RyihdI"
      },
      "execution_count": null,
      "outputs": [
        {
          "output_type": "stream",
          "name": "stdout",
          "text": [
            "(875101, 50007)\n",
            "(431020, 50007)\n"
          ]
        }
      ]
    },
    {
      "cell_type": "markdown",
      "source": [
        "Machine Learning Models"
      ],
      "metadata": {
        "id": "CqM83Vs7iwGT"
      }
    },
    {
      "cell_type": "markdown",
      "source": [
        "**Logistic model**:\n",
        "Using Grid search to tune hyperparamaters"
      ],
      "metadata": {
        "id": "yMNj6BHoxgRx"
      }
    },
    {
      "cell_type": "code",
      "source": [
        "#l1 lasso and l2 ridge\n",
        "grid = {\"C\":np.logspace(-3,3,7),\"penalty\":[\"l1\",\"l2\"]}\n",
        "log_reg = LogisticRegression()\n",
        "log_reg_cv = GridSearchCV(log_reg,grid,cv=3,scoring = \"f1\")"
      ],
      "metadata": {
        "id": "G88MxdAPwdwv"
      },
      "execution_count": null,
      "outputs": []
    },
    {
      "cell_type": "code",
      "source": [
        "log_reg_cv.fit(ss_train_data,y_train)"
      ],
      "metadata": {
        "id": "sB2jp2cDwdtJ"
      },
      "execution_count": null,
      "outputs": []
    },
    {
      "cell_type": "code",
      "source": [
        "print(\"Tuned hyperparameters : (best parameters)\",log_reg_cv.best_params_)\n",
        "print(\"accuracy\",log_reg_cv.best_score_)"
      ],
      "metadata": {
        "colab": {
          "base_uri": "https://localhost:8080/"
        },
        "id": "BPvZ_FFhxezW",
        "outputId": "3e47f0ce-121d-4465-f568-263e52803c73"
      },
      "execution_count": null,
      "outputs": [
        {
          "output_type": "stream",
          "name": "stdout",
          "text": [
            "Tuned hyperparameters : (best parameters) {'C': 0.001, 'penalty': 'l2'}\n",
            "accuracy 0.5234129816027563\n"
          ]
        }
      ]
    },
    {
      "cell_type": "markdown",
      "source": [
        "#### **logistic Regression model with count Vectorizer and custom features**\n"
      ],
      "metadata": {
        "id": "OgzpWMs57M79"
      }
    },
    {
      "cell_type": "code",
      "source": [
        "def logistic_reg(x_train,y_train,x_test,y_test):\n",
        "\n",
        "    #applying the logidtic regression using sklearn\n",
        "    logisticreg = LogisticRegression(C = 0.001,penalty = \"l2\")\n",
        "    #fitting the model\n",
        "    logisticreg.fit(x_train,y_train)\n",
        "    #predicting\n",
        "    y_pred_test = logisticreg.predict(x_test)\n",
        "    y_pred_train = logisticreg.predict(x_train)\n",
        "    #f1-score\n",
        "    f1score_test  = f1_score(y_pred_test,y_test)\n",
        "    f1score_train = f1_score(y_pred_train,y_train)\n",
        "    #auc score\n",
        "    fpr_test, tpr_test, thresholds_test = metrics.roc_curve(y_pred_test,y_test)\n",
        "    fpr_train, tpr_train, thresholds_train = metrics.roc_curve(y_pred_train,y_train)\n",
        "    \n",
        "    auc_score_test = metrics.auc(fpr_test, tpr_test)\n",
        "    auc_score_train = metrics.auc(fpr_train,tpr_train)\n",
        "    #confusion matrix\n",
        "    conf_mat_train = confusion_matrix(y_train,y_pred_train)\n",
        "    conf_mat_test = confusion_matrix(y_test,y_pred_test)\n",
        "    #recall\n",
        "    recall_test = recall_score(y_pred_test,y_test) \n",
        "    recall_train = recall_score(y_pred_train,y_train) \n",
        "\n",
        "    return f1score_test,f1score_train,auc_score_test,auc_score_train,conf_mat_train,conf_mat_test,recall_test,recall_train\n"
      ],
      "metadata": {
        "id": "uZnyHJSfL5wV"
      },
      "execution_count": null,
      "outputs": []
    },
    {
      "cell_type": "code",
      "source": [
        "f1score_test,f1score_train,auc_score_test,auc_score_train,conf_mat_train,conf_mat_test,recall_test,recall_train = logistic_reg(ss_train_data,y_train,ss_test_data,y_test)"
      ],
      "metadata": {
        "id": "hZi77gAaB5JI",
        "colab": {
          "base_uri": "https://localhost:8080/"
        },
        "outputId": "01b95bc2-fb8c-4657-f396-ef83fd06a687"
      },
      "execution_count": null,
      "outputs": [
        {
          "output_type": "stream",
          "name": "stderr",
          "text": [
            "/usr/local/lib/python3.7/dist-packages/sklearn/linear_model/_logistic.py:818: ConvergenceWarning: lbfgs failed to converge (status=1):\n",
            "STOP: TOTAL NO. of ITERATIONS REACHED LIMIT.\n",
            "\n",
            "Increase the number of iterations (max_iter) or scale the data as shown in:\n",
            "    https://scikit-learn.org/stable/modules/preprocessing.html\n",
            "Please also refer to the documentation for alternative solver options:\n",
            "    https://scikit-learn.org/stable/modules/linear_model.html#logistic-regression\n",
            "  extra_warning_msg=_LOGISTIC_SOLVER_CONVERGENCE_MSG,\n"
          ]
        }
      ]
    },
    {
      "cell_type": "code",
      "source": [
        "print(f\"F1 score on test dataset is {f1score_test}\")\n",
        "print(f\"F1 score on train dataset is {f1score_train}\")\n",
        "print(f\"AUC score on test dataset is {auc_score_test}\")\n",
        "print(f\"AUC score on train dataset  {auc_score_train}\")\n",
        "print(f\"Recall score on test dataset  {recall_test}\")\n",
        "print(f\"Recall score on train dataset  {recall_train}\")\n"
      ],
      "metadata": {
        "colab": {
          "base_uri": "https://localhost:8080/"
        },
        "id": "zAX38Qj2Cffv",
        "outputId": "53a0609d-75b8-41d0-8215-e556365af94c"
      },
      "execution_count": null,
      "outputs": [
        {
          "output_type": "stream",
          "name": "stdout",
          "text": [
            "F1 score on test dataset is 0.5371029392381707\n",
            "F1 score on train dataset is 0.6750972762645914\n",
            "AUC score on test dataset is 0.8066648837766378\n",
            "AUC score on train dataset  0.8814572809552724\n",
            "Recall score on test dataset  0.6483691328560064\n",
            "Recall score on train dataset  0.7895335608646189\n"
          ]
        }
      ]
    },
    {
      "cell_type": "markdown",
      "source": [
        "\n",
        "Confusion matrix on train data"
      ],
      "metadata": {
        "id": "YChZ3OU3OXUI"
      }
    },
    {
      "cell_type": "code",
      "source": [
        "conf_mat_train"
      ],
      "metadata": {
        "colab": {
          "base_uri": "https://localhost:8080/"
        },
        "id": "NjD2kLZzPFBv",
        "outputId": "08385f44-0977-43a6-ab4e-17effa6c76ae"
      },
      "execution_count": null,
      "outputs": [
        {
          "output_type": "execute_result",
          "data": {
            "text/plain": [
              "array([[812449,   8510],\n",
              "       [ 22218,  31924]])"
            ]
          },
          "metadata": {},
          "execution_count": 33
        }
      ]
    },
    {
      "cell_type": "code",
      "source": [
        "sns.heatmap(conf_mat_train, annot=True,annot_kws={\"size\": 16},fmt=\"\")\n",
        "\n",
        "plt.show()"
      ],
      "metadata": {
        "colab": {
          "base_uri": "https://localhost:8080/",
          "height": 266
        },
        "id": "LUtLCQZqPvGw",
        "outputId": "1d62d190-1881-4012-d8d3-ac71e06ae31b"
      },
      "execution_count": 37,
      "outputs": [
        {
          "output_type": "display_data",
          "data": {
            "text/plain": [
              "<Figure size 432x288 with 2 Axes>"
            ],
            "image/png": "[encoded data removed]"
          },
          "metadata": {
            "needs_background": "light"
          }
        }
      ]
    },
    {
      "cell_type": "markdown",
      "source": [
        "Confusion matrix on test data"
      ],
      "metadata": {
        "id": "CEyvy8m_g6Xe"
      }
    },
    {
      "cell_type": "code",
      "source": [
        "conf_mat_test"
      ],
      "metadata": {
        "colab": {
          "base_uri": "https://localhost:8080/"
        },
        "id": "RlutuuFJPCoN",
        "outputId": "622210e6-bf90-4480-ea5e-96c40c866f70"
      },
      "execution_count": 38,
      "outputs": [
        {
          "output_type": "execute_result",
          "data": {
            "text/plain": [
              "array([[397723,   6630],\n",
              "       [ 14442,  12225]])"
            ]
          },
          "metadata": {},
          "execution_count": 38
        }
      ]
    },
    {
      "cell_type": "code",
      "source": [
        "sns.heatmap(conf_mat_test, annot=True,annot_kws={\"size\": 16},fmt=\"\")\n",
        "\n",
        "plt.show()"
      ],
      "metadata": {
        "colab": {
          "base_uri": "https://localhost:8080/",
          "height": 265
        },
        "id": "VQxDvYCsnuFp",
        "outputId": "91d94c8d-58c2-4045-a6fc-070d878bfead"
      },
      "execution_count": 39,
      "outputs": [
        {
          "output_type": "display_data",
          "data": {
            "text/plain": [
              "<Figure size 432x288 with 2 Axes>"
            ],
            "image/png": "[encoded data removed]"
          },
          "metadata": {
            "needs_background": "light"
          }
        }
      ]
    },
    {
      "cell_type": "markdown",
      "source": [
        "Using Grid search to tune hyperparamaters"
      ],
      "metadata": {
        "id": "E0wE0Ifkk1e3"
      }
    },
    {
      "cell_type": "code",
      "source": [
        "log_reg_cv.fit(ss_train_data_tf,y_train)"
      ],
      "metadata": {
        "id": "nAgmJx0JHP1n"
      },
      "execution_count": null,
      "outputs": []
    },
    {
      "cell_type": "code",
      "source": [
        "print(\"Tuned hyperparameters : (best parameters)\",log_reg_cv.best_params_)\n",
        "print(\"accuracy\",log_reg_cv.best_score_)"
      ],
      "metadata": {
        "colab": {
          "base_uri": "https://localhost:8080/"
        },
        "id": "k33UA-FHHniS",
        "outputId": "c95fef9c-6af9-4c19-83d3-aa8421abed4e"
      },
      "execution_count": null,
      "outputs": [
        {
          "output_type": "stream",
          "name": "stdout",
          "text": [
            "Tuned hyperparameters : (best parameters) {'C': 0.001, 'penalty': 'l2'}\n",
            "accuracy 0.5234129816027563\n"
          ]
        }
      ]
    },
    {
      "cell_type": "markdown",
      "source": [
        "**logistic regression with tf-idf vectors and custom features**"
      ],
      "metadata": {
        "id": "IQmZRgKrHZfT"
      }
    },
    {
      "cell_type": "code",
      "source": [
        "f1score_test_tf,f1score_train_tf,auc_score_test_tf,auc_score_train_tf,conf_mat_train_tf,conf_mat_test_tf,recall_test_tf,recall_train_tf = logistic_reg(ss_train_data_tf,y_train,ss_test_data_tf,y_test)"
      ],
      "metadata": {
        "id": "W6OjgMhGxK0H",
        "colab": {
          "base_uri": "https://localhost:8080/"
        },
        "outputId": "1d7eeccb-2a45-4c51-ad96-552f75306641"
      },
      "execution_count": 49,
      "outputs": [
        {
          "output_type": "stream",
          "name": "stderr",
          "text": [
            "/usr/local/lib/python3.7/dist-packages/sklearn/linear_model/_logistic.py:818: ConvergenceWarning: lbfgs failed to converge (status=1):\n",
            "STOP: TOTAL NO. of ITERATIONS REACHED LIMIT.\n",
            "\n",
            "Increase the number of iterations (max_iter) or scale the data as shown in:\n",
            "    https://scikit-learn.org/stable/modules/preprocessing.html\n",
            "Please also refer to the documentation for alternative solver options:\n",
            "    https://scikit-learn.org/stable/modules/linear_model.html#logistic-regression\n",
            "  extra_warning_msg=_LOGISTIC_SOLVER_CONVERGENCE_MSG,\n"
          ]
        }
      ]
    },
    {
      "cell_type": "code",
      "execution_count": 50,
      "metadata": {
        "id": "TNUSaPEZw8qk",
        "colab": {
          "base_uri": "https://localhost:8080/"
        },
        "outputId": "30810448-2b97-4504-c125-0df57281a14f"
      },
      "outputs": [
        {
          "output_type": "stream",
          "name": "stdout",
          "text": [
            "F1 score on test dataset is 0.5400772099718641\n",
            "F1 score on train dataset is 0.6640095068830254\n",
            "AUC score on test dataset is 0.8053802307053681\n",
            "AUC score on train dataset  0.8719684513274373\n",
            "Recall score on test dataset  0.6454488583046606\n",
            "Recall score on train dataset  0.7709966542115417\n"
          ]
        }
      ],
      "source": [
        "print(f\"F1 score on test dataset is {f1score_test_tf}\")\n",
        "print(f\"F1 score on train dataset is {f1score_train_tf}\")\n",
        "print(f\"AUC score on test dataset is {auc_score_test_tf}\")\n",
        "print(f\"AUC score on train dataset  {auc_score_train_tf}\")\n",
        "print(f\"Recall score on test dataset  {recall_test_tf}\")\n",
        "print(f\"Recall score on train dataset  {recall_train_tf}\")"
      ]
    },
    {
      "cell_type": "markdown",
      "source": [
        "Confusion Matrix on train data"
      ],
      "metadata": {
        "id": "9UpnMAGlQiXH"
      }
    },
    {
      "cell_type": "code",
      "source": [
        "conf_mat_train_tf"
      ],
      "metadata": {
        "colab": {
          "base_uri": "https://localhost:8080/"
        },
        "id": "7Dk7knYkKxlb",
        "outputId": "46318f5c-ab59-47bb-e086-a31c292f66bb"
      },
      "execution_count": 51,
      "outputs": [
        {
          "output_type": "execute_result",
          "data": {
            "text/plain": [
              "array([[811582,   9377],\n",
              "       [ 22572,  31570]])"
            ]
          },
          "metadata": {},
          "execution_count": 51
        }
      ]
    },
    {
      "cell_type": "code",
      "source": [
        "sns.heatmap(conf_mat_train_tf, annot=True,annot_kws={\"size\": 16},fmt=\"\")\n",
        "plt.show()"
      ],
      "metadata": {
        "colab": {
          "base_uri": "https://localhost:8080/",
          "height": 266
        },
        "id": "FRpmkc7HKxiE",
        "outputId": "754be663-ba34-4001-f09c-a3ed93a8062f"
      },
      "execution_count": 52,
      "outputs": [
        {
          "output_type": "display_data",
          "data": {
            "text/plain": [
              "<Figure size 432x288 with 2 Axes>"
            ],
            "image/png": "[encoded data removed]"
          },
          "metadata": {
            "needs_background": "light"
          }
        }
      ]
    },
    {
      "cell_type": "markdown",
      "source": [
        "Confusion matrix on test data"
      ],
      "metadata": {
        "id": "5NTDy9mnhrlT"
      }
    },
    {
      "cell_type": "code",
      "source": [
        "conf_mat_test_tf"
      ],
      "metadata": {
        "colab": {
          "base_uri": "https://localhost:8080/"
        },
        "id": "EWQdRvLaKxfN",
        "outputId": "e7f5b4ad-cf5b-4407-970d-ef62cde99682"
      },
      "execution_count": 53,
      "outputs": [
        {
          "output_type": "execute_result",
          "data": {
            "text/plain": [
              "array([[397552,   6801],\n",
              "       [ 14286,  12381]])"
            ]
          },
          "metadata": {},
          "execution_count": 53
        }
      ]
    },
    {
      "cell_type": "code",
      "source": [
        "sns.heatmap(conf_mat_test_tf, annot=True,annot_kws={\"size\": 16},fmt=\"\")\n",
        "plt.show()"
      ],
      "metadata": {
        "colab": {
          "base_uri": "https://localhost:8080/",
          "height": 265
        },
        "id": "Q-ku1e4vKxbR",
        "outputId": "0f994dd4-902d-4275-aa0d-21ad89421149"
      },
      "execution_count": 54,
      "outputs": [
        {
          "output_type": "display_data",
          "data": {
            "text/plain": [
              "<Figure size 432x288 with 2 Axes>"
            ],
            "image/png": "[encoded data removed]"
          },
          "metadata": {
            "needs_background": "light"
          }
        }
      ]
    },
    {
      "cell_type": "markdown",
      "source": [
        "#### **Naive Bayes Model** "
      ],
      "metadata": {
        "id": "WaNm-viiQ0al"
      }
    },
    {
      "cell_type": "code",
      "source": [
        "def naive_bayes(x_train,y_train,x_test,y_test):\n",
        "\n",
        "    mnb = MultinomialNB()\n",
        "\n",
        "    #fitting the model\n",
        "    mnb.fit(x_train,y_train)\n",
        "    #predicting the model\n",
        "    y_pred_mnb = mnb.predict(x_test)\n",
        "    #confusion matrix\n",
        "    cm = confusion_matrix(y_pred_mnb,y_test)\n",
        "    #f1score\n",
        "    f1_score_mnb = f1_score(y_pred_mnb,y_test)\n",
        "    #auc score\n",
        "    fpr_nb, tpr_nb, thresholds_nb = metrics.roc_curve(y_test,y_pred_mnb,pos_label=1)\n",
        "    auc_score_mnb = metrics.auc(fpr_nb,tpr_nb)\n",
        "    #recall score\n",
        "    recall = recall_score(y_pred_mnb,y_test)\n",
        "\n",
        "\n",
        "    return f1_score_mnb,auc_score_mnb,cm,recall\n"
      ],
      "metadata": {
        "id": "_mOHx11-V8Ke"
      },
      "execution_count": null,
      "outputs": []
    },
    {
      "cell_type": "markdown",
      "source": [
        "Naive bayes with Count vectorizer and custom features"
      ],
      "metadata": {
        "id": "Xyb-7MnbTrjm"
      }
    },
    {
      "cell_type": "code",
      "source": [
        "f1_score_nv_cv,auc_score_mnb_cv,cm_nb_cv,recall_nb_cv = naive_bayes(X_train_df,y_train,X_test_df,y_test)"
      ],
      "metadata": {
        "id": "9Wn-JlAFSvod"
      },
      "execution_count": null,
      "outputs": []
    },
    {
      "cell_type": "code",
      "source": [
        "print(f\"F1 score on test dataset is {f1_score_nv_cv}\")\n",
        "print(f\"AUC score on test dataset is {auc_score_mnb_cv}\")\n",
        "print(f\"Recall score on test dataset is {recall_nb_cv}\")\n"
      ],
      "metadata": {
        "colab": {
          "base_uri": "https://localhost:8080/"
        },
        "id": "vvAaiYERTFxT",
        "outputId": "36f4940c-2d05-4dee-971c-ab8a50748381"
      },
      "execution_count": null,
      "outputs": [
        {
          "output_type": "stream",
          "name": "stdout",
          "text": [
            "F1 score on test dataset is 0.5487451199107641\n",
            "AUC score on test dataset is 0.8375806013486701\n",
            "Recall score on test dataset is 0.43677446562936983\n"
          ]
        }
      ]
    },
    {
      "cell_type": "markdown",
      "source": [
        "Naive bayes with tf_idf vectorizer and custom features"
      ],
      "metadata": {
        "id": "lnCh1ZgMT95L"
      }
    },
    {
      "cell_type": "code",
      "source": [
        "f1_score_nv_cv,auc_score_mnb_cv,cm_nb_cv,recall_nb_cv = naive_bayes(X_train_tf,y_train,X_test_tf,y_test)"
      ],
      "metadata": {
        "id": "2jVy8Y3kTFt3"
      },
      "execution_count": null,
      "outputs": []
    },
    {
      "cell_type": "code",
      "source": [
        "print(f\"F1 score on test dataset is {f1_score_nv_cv}\")\n",
        "print(f\"AUC score on test dataset is {auc_score_mnb_cv}\")\n",
        "print(f\"Recall score on test dataset is {recall_nb_cv}\")\n"
      ],
      "metadata": {
        "colab": {
          "base_uri": "https://localhost:8080/"
        },
        "id": "BpNKj2xIR30-",
        "outputId": "cd234612-86fc-4a5c-efa6-69a18c4764c9"
      },
      "execution_count": null,
      "outputs": [
        {
          "output_type": "stream",
          "name": "stdout",
          "text": [
            "F1 score on test dataset is 0.4843647598539463\n",
            "AUC score on test dataset is 0.6869431626101256\n",
            "Recall score on test dataset is 0.6443918540200536\n"
          ]
        }
      ]
    },
    {
      "cell_type": "markdown",
      "source": [
        "**Support Vector Machine**"
      ],
      "metadata": {
        "id": "T7I9hQnQXWQR"
      }
    },
    {
      "cell_type": "markdown",
      "source": [
        "Using the Count vectorizer"
      ],
      "metadata": {
        "id": "E3qoY5S2KuEG"
      }
    },
    {
      "cell_type": "code",
      "source": [
        "svc = LinearSVC(dual=True,C=5,penalty='l2',max_iter=1000,tol=0.1)\n",
        "svc.fit(ss_train_data, y_train)\n",
        "pred_cv = svc.predict(ss_test_data)\n",
        "pred1_cv = svc.predict(ss_train_data)"
      ],
      "metadata": {
        "id": "7omsxPdhXmJg",
        "colab": {
          "base_uri": "https://localhost:8080/"
        },
        "outputId": "5224c4e0-9eb6-4f5e-a4de-f3acf1c68a98"
      },
      "execution_count": 77,
      "outputs": [
        {
          "output_type": "stream",
          "name": "stderr",
          "text": [
            "/usr/local/lib/python3.7/dist-packages/sklearn/svm/_base.py:1208: ConvergenceWarning: Liblinear failed to converge, increase the number of iterations.\n",
            "  ConvergenceWarning,\n"
          ]
        }
      ]
    },
    {
      "cell_type": "code",
      "source": [
        "print(\"F1 score on test data: %s\" % f1_score(pred_cv,y_test))\n",
        "print(\"Recall score on test data: %s\" % f1_score(pred_cv,y_test))\n",
        "print(\"F1 score on train data: %s\" % f1_score(pred1_cv,y_train))\n",
        "print(\"Recall score on train data: %s\" % recall_score(pred1_cv,y_train))"
      ],
      "metadata": {
        "id": "hF-CEhQVUoqF",
        "colab": {
          "base_uri": "https://localhost:8080/"
        },
        "outputId": "de6b74bd-fec1-4ac0-dc08-734f0af81330"
      },
      "execution_count": 79,
      "outputs": [
        {
          "output_type": "stream",
          "name": "stdout",
          "text": [
            "F1 score on test data: 0.437715007101152\n",
            "Recall score on test data: 0.437715007101152\n",
            "F1 score on train data: 0.5122184278956108\n",
            "Recall score on train data: 0.44467865205211193\n"
          ]
        }
      ]
    },
    {
      "cell_type": "markdown",
      "source": [
        "Using the tf-idf vectorizer"
      ],
      "metadata": {
        "id": "fmD6A98mLEKb"
      }
    },
    {
      "cell_type": "code",
      "source": [
        "svc_tf = LinearSVC(dual=True,C=5,penalty='l2',max_iter=1000,tol=0.01)\n",
        "svc_tf.fit(ss_train_data_tf, y_train)\n",
        "pred = svc_tf.predict(ss_test_data_tf)\n",
        "pred1 = svc_tf.predict(ss_train_data_tf)"
      ],
      "metadata": {
        "id": "bJQ4T0Z4AS8L",
        "colab": {
          "base_uri": "https://localhost:8080/"
        },
        "outputId": "0a9e7383-8517-4c52-d158-c344ddffd451"
      },
      "execution_count": 76,
      "outputs": [
        {
          "output_type": "stream",
          "name": "stderr",
          "text": [
            "/usr/local/lib/python3.7/dist-packages/sklearn/svm/_base.py:1208: ConvergenceWarning: Liblinear failed to converge, increase the number of iterations.\n",
            "  ConvergenceWarning,\n"
          ]
        }
      ]
    },
    {
      "cell_type": "code",
      "source": [
        "print(\"F1 score on test data: %s\" % f1_score(pred,y_test))\n",
        "print(\"Recall score on test data: %s\" % f1_score(pred,y_test))\n",
        "print(\"F1 score on train data: %s\" % f1_score(pred1,y_train))\n",
        "print(\"Recall score on train data: %s\" % f1_score(pred1,y_train))"
      ],
      "metadata": {
        "id": "gTSggd3qKxId",
        "colab": {
          "base_uri": "https://localhost:8080/"
        },
        "outputId": "f4486aca-b43d-4db0-d1c5-3dc7dffb6326"
      },
      "execution_count": 80,
      "outputs": [
        {
          "output_type": "stream",
          "name": "stdout",
          "text": [
            "F1 score on test data: 0.4214138886406292\n",
            "Recall score on test data: 0.4214138886406292\n",
            "F1 score on train data: 0.5052502302732577\n",
            "Recall score on train data: 0.5052502302732577\n"
          ]
        }
      ]
    },
    {
      "cell_type": "code",
      "source": [
        ""
      ],
      "metadata": {
        "id": "Huvx7JDeXLZD"
      },
      "execution_count": null,
      "outputs": []
    }
  ]
}