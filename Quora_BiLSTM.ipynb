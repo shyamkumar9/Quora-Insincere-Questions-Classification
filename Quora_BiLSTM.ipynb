{
 "cells": [
  {
   "cell_type": "code",
   "execution_count": 36,
   "metadata": {
    "id": "Fe-dPpuCPFe9"
   },
   "outputs": [],
   "source": [
    "import pandas as pd\n",
    "import numpy as np\n",
    "import matplotlib\n",
    "import matplotlib.pyplot as plt\n",
    "import seaborn as sns\n",
    "import re\n",
    "import string\n",
    "import io\n",
    "import zipfile\n",
    "from tqdm import tqdm\n",
    "\n",
    "from sklearn.model_selection import train_test_split\n",
    "from sklearn.feature_extraction.text import CountVectorizer, TfidfVectorizer\n",
    "from sklearn.utils import resample\n",
    "\n",
    "import nltk\n",
    "nltk.download('popular', quiet=True)\n",
    "from nltk.corpus import stopwords\n",
    "stop=set(stopwords.words('english'))\n",
    "from nltk.tokenize import word_tokenize\n",
    "\n",
    "from tensorflow import keras\n",
    "from tensorflow.keras.optimizers import Adam\n",
    "from keras.models import Sequential\n",
    "from keras.callbacks import ModelCheckpoint, EarlyStopping\n",
    "from keras.preprocessing.text import Tokenizer\n",
    "from keras.layers import LSTM, Embedding, Dense, Dropout, Bidirectional\n",
    "from keras.preprocessing.sequence import pad_sequences\n",
    "from keras.initializers import Constant"
   ]
  },
  {
   "cell_type": "code",
   "execution_count": 3,
   "metadata": {
    "id": "sOsFfAeobGsw"
   },
   "outputs": [],
   "source": [
    "! mkdir ~/.kaggle\n",
    "! cp kaggle.json ~/.kaggle/\n",
    "! chmod 600 ~/.kaggle/kaggle.json"
   ]
  },
  {
   "cell_type": "code",
   "execution_count": 4,
   "metadata": {
    "colab": {
     "base_uri": "https://localhost:8080/"
    },
    "id": "GILwuHAcbJ2r",
    "outputId": "2186a6ec-e6a7-4680-b481-872e5e22a09f"
   },
   "outputs": [
    {
     "name": "stdout",
     "output_type": "stream",
     "text": [
      "Downloading quora-insincere-questions-classification.zip to /content\n",
      "100% 6.02G/6.03G [01:35<00:00, 86.4MB/s]\n",
      "100% 6.03G/6.03G [01:35<00:00, 67.5MB/s]\n"
     ]
    }
   ],
   "source": [
    "!kaggle competitions download -c quora-insincere-questions-classification"
   ]
  },
  {
   "cell_type": "code",
   "execution_count": 5,
   "metadata": {
    "colab": {
     "base_uri": "https://localhost:8080/"
    },
    "id": "DuKDxdvbbQgm",
    "outputId": "005163b7-ef5a-42ec-db2a-4def9ce0c8e4"
   },
   "outputs": [
    {
     "name": "stdout",
     "output_type": "stream",
     "text": [
      "Archive:  /content/quora-insincere-questions-classification.zip\n",
      "  inflating: embeddings.zip          \n",
      "  inflating: sample_submission.csv   \n",
      "  inflating: test.csv                \n",
      "  inflating: train.csv               \n"
     ]
    }
   ],
   "source": [
    "!unzip /content/quora-insincere-questions-classification.zip"
   ]
  },
  {
   "cell_type": "code",
   "execution_count": 2,
   "metadata": {
    "id": "3Po33DwDPPIE"
   },
   "outputs": [],
   "source": [
    "train_data = pd.read_csv('train.csv')"
   ]
  },
  {
   "cell_type": "code",
   "execution_count": 3,
   "metadata": {
    "colab": {
     "base_uri": "https://localhost:8080/"
    },
    "id": "8J3x45xkjqLi",
    "outputId": "99cc8a21-2a96-45a5-e591-54da2776cbbd"
   },
   "outputs": [
    {
     "data": {
      "text/plain": [
       "(1306122, 3)"
      ]
     },
     "execution_count": 3,
     "metadata": {},
     "output_type": "execute_result"
    }
   ],
   "source": [
    "train_data.shape"
   ]
  },
  {
   "cell_type": "markdown",
   "metadata": {
    "id": "wlQonMQUj6zl"
   },
   "source": [
    "There are 1306122 records with 3 columns for each record"
   ]
  },
  {
   "cell_type": "code",
   "execution_count": 4,
   "metadata": {
    "colab": {
     "base_uri": "https://localhost:8080/",
     "height": 206
    },
    "id": "8L6n91QgjqTZ",
    "outputId": "f2e6548d-73e6-41c2-a8cd-a0ba764409e3"
   },
   "outputs": [
    {
     "data": {
      "text/html": [
       "\n",
       "  <div id=\"df-f38054f5-ee27-460a-a551-d2b19ce2d889\">\n",
       "    <div class=\"colab-df-container\">\n",
       "      <div>\n",
       "<style scoped>\n",
       "    .dataframe tbody tr th:only-of-type {\n",
       "        vertical-align: middle;\n",
       "    }\n",
       "\n",
       "    .dataframe tbody tr th {\n",
       "        vertical-align: top;\n",
       "    }\n",
       "\n",
       "    .dataframe thead th {\n",
       "        text-align: right;\n",
       "    }\n",
       "</style>\n",
       "<table border=\"1\" class=\"dataframe\">\n",
       "  <thead>\n",
       "    <tr style=\"text-align: right;\">\n",
       "      <th></th>\n",
       "      <th>qid</th>\n",
       "      <th>question_text</th>\n",
       "      <th>target</th>\n",
       "    </tr>\n",
       "  </thead>\n",
       "  <tbody>\n",
       "    <tr>\n",
       "      <th>0</th>\n",
       "      <td>00002165364db923c7e6</td>\n",
       "      <td>How did Quebec nationalists see their province...</td>\n",
       "      <td>0</td>\n",
       "    </tr>\n",
       "    <tr>\n",
       "      <th>1</th>\n",
       "      <td>000032939017120e6e44</td>\n",
       "      <td>Do you have an adopted dog, how would you enco...</td>\n",
       "      <td>0</td>\n",
       "    </tr>\n",
       "    <tr>\n",
       "      <th>2</th>\n",
       "      <td>0000412ca6e4628ce2cf</td>\n",
       "      <td>Why does velocity affect time? Does velocity a...</td>\n",
       "      <td>0</td>\n",
       "    </tr>\n",
       "    <tr>\n",
       "      <th>3</th>\n",
       "      <td>000042bf85aa498cd78e</td>\n",
       "      <td>How did Otto von Guericke used the Magdeburg h...</td>\n",
       "      <td>0</td>\n",
       "    </tr>\n",
       "    <tr>\n",
       "      <th>4</th>\n",
       "      <td>0000455dfa3e01eae3af</td>\n",
       "      <td>Can I convert montra helicon D to a mountain b...</td>\n",
       "      <td>0</td>\n",
       "    </tr>\n",
       "  </tbody>\n",
       "</table>\n",
       "</div>\n",
       "      <button class=\"colab-df-convert\" onclick=\"convertToInteractive('df-f38054f5-ee27-460a-a551-d2b19ce2d889')\"\n",
       "              title=\"Convert this dataframe to an interactive table.\"\n",
       "              style=\"display:none;\">\n",
       "        \n",
       "  <svg xmlns=\"http://www.w3.org/2000/svg\" height=\"24px\"viewBox=\"0 0 24 24\"\n",
       "       width=\"24px\">\n",
       "    <path d=\"M0 0h24v24H0V0z\" fill=\"none\"/>\n",
       "    <path d=\"M18.56 5.44l.94 2.06.94-2.06 2.06-.94-2.06-.94-.94-2.06-.94 2.06-2.06.94zm-11 1L8.5 8.5l.94-2.06 2.06-.94-2.06-.94L8.5 2.5l-.94 2.06-2.06.94zm10 10l.94 2.06.94-2.06 2.06-.94-2.06-.94-.94-2.06-.94 2.06-2.06.94z\"/><path d=\"M17.41 7.96l-1.37-1.37c-.4-.4-.92-.59-1.43-.59-.52 0-1.04.2-1.43.59L10.3 9.45l-7.72 7.72c-.78.78-.78 2.05 0 2.83L4 21.41c.39.39.9.59 1.41.59.51 0 1.02-.2 1.41-.59l7.78-7.78 2.81-2.81c.8-.78.8-2.07 0-2.86zM5.41 20L4 18.59l7.72-7.72 1.47 1.35L5.41 20z\"/>\n",
       "  </svg>\n",
       "      </button>\n",
       "      \n",
       "  <style>\n",
       "    .colab-df-container {\n",
       "      display:flex;\n",
       "      flex-wrap:wrap;\n",
       "      gap: 12px;\n",
       "    }\n",
       "\n",
       "    .colab-df-convert {\n",
       "      background-color: #E8F0FE;\n",
       "      border: none;\n",
       "      border-radius: 50%;\n",
       "      cursor: pointer;\n",
       "      display: none;\n",
       "      fill: #1967D2;\n",
       "      height: 32px;\n",
       "      padding: 0 0 0 0;\n",
       "      width: 32px;\n",
       "    }\n",
       "\n",
       "    .colab-df-convert:hover {\n",
       "      background-color: #E2EBFA;\n",
       "      box-shadow: 0px 1px 2px rgba(60, 64, 67, 0.3), 0px 1px 3px 1px rgba(60, 64, 67, 0.15);\n",
       "      fill: #174EA6;\n",
       "    }\n",
       "\n",
       "    [theme=dark] .colab-df-convert {\n",
       "      background-color: #3B4455;\n",
       "      fill: #D2E3FC;\n",
       "    }\n",
       "\n",
       "    [theme=dark] .colab-df-convert:hover {\n",
       "      background-color: #434B5C;\n",
       "      box-shadow: 0px 1px 3px 1px rgba(0, 0, 0, 0.15);\n",
       "      filter: drop-shadow(0px 1px 2px rgba(0, 0, 0, 0.3));\n",
       "      fill: #FFFFFF;\n",
       "    }\n",
       "  </style>\n",
       "\n",
       "      <script>\n",
       "        const buttonEl =\n",
       "          document.querySelector('#df-f38054f5-ee27-460a-a551-d2b19ce2d889 button.colab-df-convert');\n",
       "        buttonEl.style.display =\n",
       "          google.colab.kernel.accessAllowed ? 'block' : 'none';\n",
       "\n",
       "        async function convertToInteractive(key) {\n",
       "          const element = document.querySelector('#df-f38054f5-ee27-460a-a551-d2b19ce2d889');\n",
       "          const dataTable =\n",
       "            await google.colab.kernel.invokeFunction('convertToInteractive',\n",
       "                                                     [key], {});\n",
       "          if (!dataTable) return;\n",
       "\n",
       "          const docLinkHtml = 'Like what you see? Visit the ' +\n",
       "            '<a target=\"_blank\" href=https://colab.research.google.com/notebooks/data_table.ipynb>data table notebook</a>'\n",
       "            + ' to learn more about interactive tables.';\n",
       "          element.innerHTML = '';\n",
       "          dataTable['output_type'] = 'display_data';\n",
       "          await google.colab.output.renderOutput(dataTable, element);\n",
       "          const docLink = document.createElement('div');\n",
       "          docLink.innerHTML = docLinkHtml;\n",
       "          element.appendChild(docLink);\n",
       "        }\n",
       "      </script>\n",
       "    </div>\n",
       "  </div>\n",
       "  "
      ],
      "text/plain": [
       "                    qid                                      question_text  \\\n",
       "0  00002165364db923c7e6  How did Quebec nationalists see their province...   \n",
       "1  000032939017120e6e44  Do you have an adopted dog, how would you enco...   \n",
       "2  0000412ca6e4628ce2cf  Why does velocity affect time? Does velocity a...   \n",
       "3  000042bf85aa498cd78e  How did Otto von Guericke used the Magdeburg h...   \n",
       "4  0000455dfa3e01eae3af  Can I convert montra helicon D to a mountain b...   \n",
       "\n",
       "   target  \n",
       "0       0  \n",
       "1       0  \n",
       "2       0  \n",
       "3       0  \n",
       "4       0  "
      ]
     },
     "execution_count": 4,
     "metadata": {},
     "output_type": "execute_result"
    }
   ],
   "source": [
    "train_data.head()"
   ]
  },
  {
   "cell_type": "code",
   "execution_count": 5,
   "metadata": {
    "colab": {
     "base_uri": "https://localhost:8080/"
    },
    "id": "WpkPMCNokOyf",
    "outputId": "172887f8-d28f-40e6-9a85-b4e2d9877060"
   },
   "outputs": [
    {
     "data": {
      "text/plain": [
       "0    1225312\n",
       "1      80810\n",
       "Name: target, dtype: int64"
      ]
     },
     "execution_count": 5,
     "metadata": {},
     "output_type": "execute_result"
    }
   ],
   "source": [
    "train_data['target'].value_counts()"
   ]
  },
  {
   "cell_type": "markdown",
   "metadata": {
    "id": "fasn5IZHkWO0"
   },
   "source": [
    "The data is highly imbalanced with 1225312 questions being sincere and only about 80810 being insincere. Let's try downsampling the sincere questions."
   ]
  },
  {
   "cell_type": "code",
   "execution_count": 6,
   "metadata": {
    "id": "ffeIBkgFlCfd"
   },
   "outputs": [],
   "source": [
    "sincere_qs = train_data[train_data['target'] == 0]\n",
    "insincere_qs = train_data[train_data['target'] == 1]"
   ]
  },
  {
   "cell_type": "code",
   "execution_count": 7,
   "metadata": {
    "colab": {
     "base_uri": "https://localhost:8080/"
    },
    "id": "k9FH7AnPl4h-",
    "outputId": "95fcaa6b-2452-4891-d7a6-5ec7392262e5"
   },
   "outputs": [
    {
     "name": "stdout",
     "output_type": "stream",
     "text": [
      "sincere questions shape: (1225312, 3) \n",
      "insincere questions shape: (80810, 3)\n"
     ]
    }
   ],
   "source": [
    "print(\"sincere questions shape:\", sincere_qs.shape, \"\\ninsincere questions shape:\", insincere_qs.shape)"
   ]
  },
  {
   "cell_type": "code",
   "execution_count": 8,
   "metadata": {
    "id": "4finMNWJmRIW"
   },
   "outputs": [],
   "source": [
    "n_sincere = sincere_qs.shape[0]\n",
    "n_insincere = insincere_qs.shape[0]"
   ]
  },
  {
   "cell_type": "code",
   "execution_count": 9,
   "metadata": {
    "id": "7LetI3FLP7Vc"
   },
   "outputs": [],
   "source": [
    "downsampled_sincere_qs = resample(sincere_qs, \n",
    "                                 replace=False,\n",
    "                                 n_samples=int(0.5*n_sincere),     \n",
    "                                 random_state=42) "
   ]
  },
  {
   "cell_type": "markdown",
   "metadata": {
    "id": "jO0GKTCsok54"
   },
   "source": [
    "Now we combine our downsampled sincere questions with the insincere questions."
   ]
  },
  {
   "cell_type": "code",
   "execution_count": 10,
   "metadata": {
    "id": "r4pFkco8n51-"
   },
   "outputs": [],
   "source": [
    "train_data = pd.concat([downsampled_sincere_qs, insincere_qs])"
   ]
  },
  {
   "cell_type": "code",
   "execution_count": 11,
   "metadata": {
    "colab": {
     "base_uri": "https://localhost:8080/"
    },
    "id": "DeybEu2Do3DG",
    "outputId": "0e73e128-a13a-4b3b-bb22-04580a9aac28"
   },
   "outputs": [
    {
     "name": "stdout",
     "output_type": "stream",
     "text": [
      "shape of train_data after downsampling: (693466, 3)\n"
     ]
    }
   ],
   "source": [
    "print('shape of train_data after downsampling:', train_data.shape)"
   ]
  },
  {
   "cell_type": "code",
   "execution_count": 12,
   "metadata": {
    "colab": {
     "base_uri": "https://localhost:8080/"
    },
    "id": "Va57WV6RpIr7",
    "outputId": "93fc5601-df80-427b-ba84-59c612747960"
   },
   "outputs": [
    {
     "data": {
      "text/plain": [
       "2"
      ]
     },
     "execution_count": 12,
     "metadata": {},
     "output_type": "execute_result"
    }
   ],
   "source": [
    "len(train_data['target'].value_counts())"
   ]
  },
  {
   "cell_type": "code",
   "execution_count": 13,
   "metadata": {
    "colab": {
     "base_uri": "https://localhost:8080/"
    },
    "id": "smD7DkZ9qSSt",
    "outputId": "23890fa4-6ff4-4c37-877a-f4e283d12da9"
   },
   "outputs": [
    {
     "data": {
      "text/plain": [
       "693466"
      ]
     },
     "execution_count": 13,
     "metadata": {},
     "output_type": "execute_result"
    }
   ],
   "source": [
    "train_data.target.value_counts().sum()"
   ]
  },
  {
   "cell_type": "code",
   "execution_count": 14,
   "metadata": {
    "id": "MCpSfwrdqc90"
   },
   "outputs": [],
   "source": [
    "no_of_classes = len(train_data['target'].value_counts())\n",
    "value_count_array = train_data.target.value_counts().to_numpy()\n",
    "sample_size = train_data.target.value_counts().sum()\n",
    "w_class = sample_size/(no_of_classes*value_count_array)\n",
    "class_weight_dict = dict(zip(range(len(train_data['target'].value_counts())), w_class))"
   ]
  },
  {
   "cell_type": "code",
   "execution_count": 15,
   "metadata": {
    "colab": {
     "base_uri": "https://localhost:8080/"
    },
    "id": "TGjZhmo1saK5",
    "outputId": "0f2fbed3-bf74-4b25-8017-3fbb172c7a13"
   },
   "outputs": [
    {
     "data": {
      "text/plain": [
       "{0: 0.5659505497375362, 1: 4.290718970424453}"
      ]
     },
     "execution_count": 15,
     "metadata": {},
     "output_type": "execute_result"
    }
   ],
   "source": [
    "class_weight_dict"
   ]
  },
  {
   "cell_type": "code",
   "execution_count": 16,
   "metadata": {
    "id": "UfXASizSQuWk"
   },
   "outputs": [],
   "source": [
    "test_data = pd.read_csv('test.csv')"
   ]
  },
  {
   "cell_type": "code",
   "execution_count": 17,
   "metadata": {
    "id": "rJW_B8qpRQxK"
   },
   "outputs": [],
   "source": [
    "new_df = pd.concat([train_data,test_data])"
   ]
  },
  {
   "cell_type": "code",
   "execution_count": 18,
   "metadata": {
    "colab": {
     "base_uri": "https://localhost:8080/"
    },
    "id": "enGCPncAtYPq",
    "outputId": "221873d7-e765-4202-bc65-a77ffcda75de"
   },
   "outputs": [
    {
     "name": "stdout",
     "output_type": "stream",
     "text": [
      "new dataframe shape: (1069272, 3)\n"
     ]
    }
   ],
   "source": [
    "print('new dataframe shape:',new_df.shape)"
   ]
  },
  {
   "cell_type": "code",
   "execution_count": 19,
   "metadata": {
    "id": "CCup4W5VRY6I"
   },
   "outputs": [],
   "source": [
    "def remove_URL(question):\n",
    "    url = re.compile(r'https?://\\S+|www\\.\\S+')\n",
    "    return url.sub(r'url',question)\n",
    "\n",
    "def remove_punct(question):\n",
    "    table = str.maketrans('','',string.punctuation)\n",
    "    return question.translate(table)\n",
    "\n",
    "def lower(question):\n",
    "    words = question.split(\" \")\n",
    "    lower = \" \".join([w.lower() for w in words])    \n",
    "    return lower"
   ]
  },
  {
   "cell_type": "code",
   "execution_count": 20,
   "metadata": {
    "id": "lXPtWUfwu591"
   },
   "outputs": [],
   "source": [
    "new_df['question_text'] = new_df['question_text'].apply(remove_URL)\n",
    "new_df['question_text'] = new_df['question_text'].apply(remove_punct)"
   ]
  },
  {
   "cell_type": "code",
   "execution_count": 21,
   "metadata": {
    "colab": {
     "base_uri": "https://localhost:8080/",
     "height": 206
    },
    "id": "A_-DPs8EvOaT",
    "outputId": "3898fb5f-33a6-4206-92ea-f4686cb082d6"
   },
   "outputs": [
    {
     "data": {
      "text/html": [
       "\n",
       "  <div id=\"df-c675db8f-7bd5-431e-b810-2ee14a8abf7b\">\n",
       "    <div class=\"colab-df-container\">\n",
       "      <div>\n",
       "<style scoped>\n",
       "    .dataframe tbody tr th:only-of-type {\n",
       "        vertical-align: middle;\n",
       "    }\n",
       "\n",
       "    .dataframe tbody tr th {\n",
       "        vertical-align: top;\n",
       "    }\n",
       "\n",
       "    .dataframe thead th {\n",
       "        text-align: right;\n",
       "    }\n",
       "</style>\n",
       "<table border=\"1\" class=\"dataframe\">\n",
       "  <thead>\n",
       "    <tr style=\"text-align: right;\">\n",
       "      <th></th>\n",
       "      <th>qid</th>\n",
       "      <th>question_text</th>\n",
       "      <th>target</th>\n",
       "    </tr>\n",
       "  </thead>\n",
       "  <tbody>\n",
       "    <tr>\n",
       "      <th>1022714</th>\n",
       "      <td>c86ab618f85e9b7fc374</td>\n",
       "      <td>Is sadism a coping mechanism for people who ar...</td>\n",
       "      <td>0.0</td>\n",
       "    </tr>\n",
       "    <tr>\n",
       "      <th>641364</th>\n",
       "      <td>7d9ea6d66b8866e69240</td>\n",
       "      <td>Is it possible for me as a soul to go outside ...</td>\n",
       "      <td>0.0</td>\n",
       "    </tr>\n",
       "    <tr>\n",
       "      <th>1225111</th>\n",
       "      <td>f01982d0cd06aba308ed</td>\n",
       "      <td>Do Pet Animal Rescue workers minimize shows of...</td>\n",
       "      <td>0.0</td>\n",
       "    </tr>\n",
       "    <tr>\n",
       "      <th>1130433</th>\n",
       "      <td>dd8a6b5452a407cea2ac</td>\n",
       "      <td>How do you identify a sonnet and what can we i...</td>\n",
       "      <td>0.0</td>\n",
       "    </tr>\n",
       "    <tr>\n",
       "      <th>1220402</th>\n",
       "      <td>ef30e73bf0a81a06ccf6</td>\n",
       "      <td>Is there a special place in hell for the likes...</td>\n",
       "      <td>0.0</td>\n",
       "    </tr>\n",
       "  </tbody>\n",
       "</table>\n",
       "</div>\n",
       "      <button class=\"colab-df-convert\" onclick=\"convertToInteractive('df-c675db8f-7bd5-431e-b810-2ee14a8abf7b')\"\n",
       "              title=\"Convert this dataframe to an interactive table.\"\n",
       "              style=\"display:none;\">\n",
       "        \n",
       "  <svg xmlns=\"http://www.w3.org/2000/svg\" height=\"24px\"viewBox=\"0 0 24 24\"\n",
       "       width=\"24px\">\n",
       "    <path d=\"M0 0h24v24H0V0z\" fill=\"none\"/>\n",
       "    <path d=\"M18.56 5.44l.94 2.06.94-2.06 2.06-.94-2.06-.94-.94-2.06-.94 2.06-2.06.94zm-11 1L8.5 8.5l.94-2.06 2.06-.94-2.06-.94L8.5 2.5l-.94 2.06-2.06.94zm10 10l.94 2.06.94-2.06 2.06-.94-2.06-.94-.94-2.06-.94 2.06-2.06.94z\"/><path d=\"M17.41 7.96l-1.37-1.37c-.4-.4-.92-.59-1.43-.59-.52 0-1.04.2-1.43.59L10.3 9.45l-7.72 7.72c-.78.78-.78 2.05 0 2.83L4 21.41c.39.39.9.59 1.41.59.51 0 1.02-.2 1.41-.59l7.78-7.78 2.81-2.81c.8-.78.8-2.07 0-2.86zM5.41 20L4 18.59l7.72-7.72 1.47 1.35L5.41 20z\"/>\n",
       "  </svg>\n",
       "      </button>\n",
       "      \n",
       "  <style>\n",
       "    .colab-df-container {\n",
       "      display:flex;\n",
       "      flex-wrap:wrap;\n",
       "      gap: 12px;\n",
       "    }\n",
       "\n",
       "    .colab-df-convert {\n",
       "      background-color: #E8F0FE;\n",
       "      border: none;\n",
       "      border-radius: 50%;\n",
       "      cursor: pointer;\n",
       "      display: none;\n",
       "      fill: #1967D2;\n",
       "      height: 32px;\n",
       "      padding: 0 0 0 0;\n",
       "      width: 32px;\n",
       "    }\n",
       "\n",
       "    .colab-df-convert:hover {\n",
       "      background-color: #E2EBFA;\n",
       "      box-shadow: 0px 1px 2px rgba(60, 64, 67, 0.3), 0px 1px 3px 1px rgba(60, 64, 67, 0.15);\n",
       "      fill: #174EA6;\n",
       "    }\n",
       "\n",
       "    [theme=dark] .colab-df-convert {\n",
       "      background-color: #3B4455;\n",
       "      fill: #D2E3FC;\n",
       "    }\n",
       "\n",
       "    [theme=dark] .colab-df-convert:hover {\n",
       "      background-color: #434B5C;\n",
       "      box-shadow: 0px 1px 3px 1px rgba(0, 0, 0, 0.15);\n",
       "      filter: drop-shadow(0px 1px 2px rgba(0, 0, 0, 0.3));\n",
       "      fill: #FFFFFF;\n",
       "    }\n",
       "  </style>\n",
       "\n",
       "      <script>\n",
       "        const buttonEl =\n",
       "          document.querySelector('#df-c675db8f-7bd5-431e-b810-2ee14a8abf7b button.colab-df-convert');\n",
       "        buttonEl.style.display =\n",
       "          google.colab.kernel.accessAllowed ? 'block' : 'none';\n",
       "\n",
       "        async function convertToInteractive(key) {\n",
       "          const element = document.querySelector('#df-c675db8f-7bd5-431e-b810-2ee14a8abf7b');\n",
       "          const dataTable =\n",
       "            await google.colab.kernel.invokeFunction('convertToInteractive',\n",
       "                                                     [key], {});\n",
       "          if (!dataTable) return;\n",
       "\n",
       "          const docLinkHtml = 'Like what you see? Visit the ' +\n",
       "            '<a target=\"_blank\" href=https://colab.research.google.com/notebooks/data_table.ipynb>data table notebook</a>'\n",
       "            + ' to learn more about interactive tables.';\n",
       "          element.innerHTML = '';\n",
       "          dataTable['output_type'] = 'display_data';\n",
       "          await google.colab.output.renderOutput(dataTable, element);\n",
       "          const docLink = document.createElement('div');\n",
       "          docLink.innerHTML = docLinkHtml;\n",
       "          element.appendChild(docLink);\n",
       "        }\n",
       "      </script>\n",
       "    </div>\n",
       "  </div>\n",
       "  "
      ],
      "text/plain": [
       "                          qid  \\\n",
       "1022714  c86ab618f85e9b7fc374   \n",
       "641364   7d9ea6d66b8866e69240   \n",
       "1225111  f01982d0cd06aba308ed   \n",
       "1130433  dd8a6b5452a407cea2ac   \n",
       "1220402  ef30e73bf0a81a06ccf6   \n",
       "\n",
       "                                             question_text  target  \n",
       "1022714  Is sadism a coping mechanism for people who ar...     0.0  \n",
       "641364   Is it possible for me as a soul to go outside ...     0.0  \n",
       "1225111  Do Pet Animal Rescue workers minimize shows of...     0.0  \n",
       "1130433  How do you identify a sonnet and what can we i...     0.0  \n",
       "1220402  Is there a special place in hell for the likes...     0.0  "
      ]
     },
     "execution_count": 21,
     "metadata": {},
     "output_type": "execute_result"
    }
   ],
   "source": [
    "new_df.head(5)"
   ]
  },
  {
   "cell_type": "code",
   "execution_count": 22,
   "metadata": {
    "id": "C0uDxsjiRigF"
   },
   "outputs": [],
   "source": [
    "def question_list(df):\n",
    "    lst =[]\n",
    "    for question in df['question_text']:\n",
    "        qs=[text.lower() for text in word_tokenize(question)]\n",
    "        qs=' '.join(qs)\n",
    "        lst.append(qs)\n",
    "    return lst   "
   ]
  },
  {
   "cell_type": "code",
   "execution_count": 23,
   "metadata": {
    "id": "cczXdXSWvkc7"
   },
   "outputs": [],
   "source": [
    "questions=question_list(new_df)"
   ]
  },
  {
   "cell_type": "code",
   "execution_count": 24,
   "metadata": {
    "colab": {
     "base_uri": "https://localhost:8080/"
    },
    "id": "RlXvJ1LgwMdu",
    "outputId": "02271166-065a-495f-8cb9-27a8c41fd631"
   },
   "outputs": [
    {
     "data": {
      "text/plain": [
       "['is sadism a coping mechanism for people who are extremely affected by the suffering of others',\n",
       " 'is it possible for me as a soul to go outside of this body and observe the universe',\n",
       " 'do pet animal rescue workers minimize shows of affection so that the animal in question doesnt become attached to them before getting adopted',\n",
       " 'how do you identify a sonnet and what can we infer from it and suggest',\n",
       " 'is there a special place in hell for the likes of genghiz khan']"
      ]
     },
     "execution_count": 24,
     "metadata": {},
     "output_type": "execute_result"
    }
   ],
   "source": [
    "questions[:5]"
   ]
  },
  {
   "cell_type": "code",
   "execution_count": 25,
   "metadata": {
    "id": "iGDVRRRtVZ1D"
   },
   "outputs": [],
   "source": [
    "#form a dictionary of word with it's vector representation\n",
    "embedding_kv={}\n",
    "with zipfile.ZipFile(\"/content/embeddings.zip\") as zfil:\n",
    "    with io.TextIOWrapper(zfil.open(\"glove.840B.300d/glove.840B.300d.txt\"), encoding=\"utf-8\") as embd:\n",
    "        for x in embd:\n",
    "            res=x.split(' ') \n",
    "            k,vec=res[0],res[1:]\n",
    "            v=np.asarray(vec,'float32')\n",
    "            embedding_kv[k]=v"
   ]
  },
  {
   "cell_type": "code",
   "execution_count": 26,
   "metadata": {
    "colab": {
     "base_uri": "https://localhost:8080/"
    },
    "id": "G3kke-KV2SRZ",
    "outputId": "430cfd76-b3b8-4f58-acfc-eb26b4ad2daf"
   },
   "outputs": [
    {
     "data": {
      "text/plain": [
       "2196016"
      ]
     },
     "execution_count": 26,
     "metadata": {},
     "output_type": "execute_result"
    }
   ],
   "source": [
    "len(embedding_kv)"
   ]
  },
  {
   "cell_type": "code",
   "execution_count": 27,
   "metadata": {
    "id": "YBJf4p5G73iX"
   },
   "outputs": [],
   "source": [
    "tokenizer = Tokenizer()"
   ]
  },
  {
   "cell_type": "code",
   "execution_count": 28,
   "metadata": {
    "id": "oOk68pVeV5A9"
   },
   "outputs": [],
   "source": [
    "tokenizer.fit_on_texts([questions])\n",
    "seq=tokenizer.texts_to_sequences(questions)\n",
    "question_pad=pad_sequences(seq,maxlen=55,truncating='post',padding='post')"
   ]
  },
  {
   "cell_type": "code",
   "execution_count": 29,
   "metadata": {
    "colab": {
     "base_uri": "https://localhost:8080/"
    },
    "id": "mv1yHKbk8AaI",
    "outputId": "acae771f-63ce-401d-e96e-9c0aec54328c"
   },
   "outputs": [
    {
     "name": "stdout",
     "output_type": "stream",
     "text": [
      "unique words: 1069117\n"
     ]
    }
   ],
   "source": [
    "question_index=tokenizer.word_index\n",
    "print('unique words:',len(question_index))"
   ]
  },
  {
   "cell_type": "code",
   "execution_count": 30,
   "metadata": {
    "id": "eVcdhf4s8NhF"
   },
   "outputs": [],
   "source": [
    "num_words=len(question_index)+1\n",
    "mat_embed=np.zeros((num_words,300))"
   ]
  },
  {
   "cell_type": "code",
   "execution_count": 31,
   "metadata": {
    "colab": {
     "base_uri": "https://localhost:8080/"
    },
    "id": "aopllzBk8v6p",
    "outputId": "6b07c9e3-1f0e-4ad9-ff72-f69d1cf8547d"
   },
   "outputs": [
    {
     "data": {
      "text/plain": [
       "(1069118, 300)"
      ]
     },
     "execution_count": 31,
     "metadata": {},
     "output_type": "execute_result"
    }
   ],
   "source": [
    "mat_embed.shape"
   ]
  },
  {
   "cell_type": "code",
   "execution_count": 32,
   "metadata": {
    "id": "Jv5mQFd289A0"
   },
   "outputs": [],
   "source": [
    "oov = np.random.uniform(-1,1,size=300).astype('float32')\n",
    "oov = oov.reshape(1,300)"
   ]
  },
  {
   "cell_type": "code",
   "execution_count": 33,
   "metadata": {
    "colab": {
     "base_uri": "https://localhost:8080/"
    },
    "id": "T8jfSQrV7s3r",
    "outputId": "7d0acea3-971d-4a9f-c4e1-580fcbe7df63"
   },
   "outputs": [
    {
     "name": "stderr",
     "output_type": "stream",
     "text": [
      "100%|██████████| 1069117/1069117 [00:02<00:00, 512067.09it/s]\n"
     ]
    }
   ],
   "source": [
    "for word, index in tqdm(question_index.items()):    \n",
    "    if index > num_words:\n",
    "        continue\n",
    "    emb_vec=embedding_kv.get(word)\n",
    "    if emb_vec is not None:\n",
    "        mat_embed[index]=emb_vec\n",
    "    else:\n",
    "        mat_embed[index]=oov"
   ]
  },
  {
   "cell_type": "code",
   "execution_count": 34,
   "metadata": {
    "colab": {
     "base_uri": "https://localhost:8080/"
    },
    "id": "HCzGCjeSXWCt",
    "outputId": "cccf8807-4ce2-47ed-d160-2f7a18a7a431"
   },
   "outputs": [
    {
     "data": {
      "text/plain": [
       "(1069272, 55)"
      ]
     },
     "execution_count": 34,
     "metadata": {},
     "output_type": "execute_result"
    }
   ],
   "source": [
    "question_pad.shape"
   ]
  },
  {
   "cell_type": "code",
   "execution_count": 35,
   "metadata": {
    "id": "e7VAlai8Xbgy"
   },
   "outputs": [],
   "source": [
    "np.save('embedding_v11.npy', mat_embed)\n",
    "np.save('text_pad_v11.npy', question_pad)"
   ]
  },
  {
   "cell_type": "code",
   "execution_count": 37,
   "metadata": {
    "colab": {
     "base_uri": "https://localhost:8080/"
    },
    "id": "tjiT8AF4Xd0f",
    "outputId": "6d0e41e2-0b54-4620-f6ab-ef44d42bd0a7"
   },
   "outputs": [
    {
     "name": "stdout",
     "output_type": "stream",
     "text": [
      "Shape of train (554772, 55)\n",
      "Shape of Validation  (138694, 55)\n"
     ]
    }
   ],
   "source": [
    "train=question_pad[:train_data.shape[0]]\n",
    "test=question_pad[train_data.shape[0]:]\n",
    "\n",
    "X_train,X_test,y_train,y_test=train_test_split(train,train_data['target'].values,test_size=0.2,stratify=train_data['target'].values,random_state=40)\n",
    "\n",
    "print('Shape of train',X_train.shape)\n",
    "print(\"Shape of Validation \",X_test.shape)"
   ]
  },
  {
   "cell_type": "code",
   "execution_count": 38,
   "metadata": {
    "id": "wjCuDsV1XgpO"
   },
   "outputs": [],
   "source": [
    "import keras.backend as K\n",
    "from sklearn.metrics import f1_score\n",
    "\n",
    "def recall_m(y_true, y_pred):\n",
    "    true_positives = K.sum(K.round(K.clip(y_true * y_pred, 0, 1)))\n",
    "    possible_positives = K.sum(K.round(K.clip(y_true, 0, 1)))\n",
    "    recall = true_positives / (possible_positives + K.epsilon())\n",
    "    return recall\n",
    "\n",
    "def precision_m(y_true, y_pred):\n",
    "    true_positives = K.sum(K.round(K.clip(y_true * y_pred, 0, 1)))\n",
    "    predicted_positives = K.sum(K.round(K.clip(y_pred, 0, 1)))\n",
    "    precision = true_positives / (predicted_positives + K.epsilon())\n",
    "    return precision\n",
    "\n",
    "def f1_m(y_true, y_pred):\n",
    "    precision = precision_m(y_true, y_pred)\n",
    "    recall = recall_m(y_true, y_pred)\n",
    "    return 2*((precision*recall)/(precision+recall+K.epsilon()))"
   ]
  },
  {
   "cell_type": "code",
   "execution_count": 41,
   "metadata": {
    "id": "uILfcVy6CfOx"
   },
   "outputs": [],
   "source": [
    "no_of_classes = len(train_data['target'].value_counts())\n",
    "value_count_array = train_data.target.value_counts().to_numpy()\n",
    "sample_size = train_data.target.value_counts().sum()\n",
    "w_class = sample_size/(no_of_classes*value_count_array)\n",
    "class_weight_dict = dict(zip(range(len(train_data['target'].value_counts())), w_class))"
   ]
  },
  {
   "cell_type": "code",
   "execution_count": 42,
   "metadata": {
    "colab": {
     "base_uri": "https://localhost:8080/"
    },
    "id": "gvce7_D5Cl9W",
    "outputId": "571d8b29-b218-4c93-ffdc-9f8d5c20fe3d"
   },
   "outputs": [
    {
     "data": {
      "text/plain": [
       "{0: 0.5659505497375362, 1: 4.290718970424453}"
      ]
     },
     "execution_count": 42,
     "metadata": {},
     "output_type": "execute_result"
    }
   ],
   "source": [
    "class_weight_dict"
   ]
  },
  {
   "cell_type": "code",
   "execution_count": 39,
   "metadata": {
    "colab": {
     "base_uri": "https://localhost:8080/"
    },
    "id": "MlE-HnXhXjnM",
    "outputId": "86eecb15-32d3-45b1-cc7c-d9bae1277dd5"
   },
   "outputs": [
    {
     "name": "stdout",
     "output_type": "stream",
     "text": [
      "WARNING:tensorflow:Layer lstm will not use cuDNN kernels since it doesn't meet the criteria. It will use a generic GPU kernel as fallback when running on GPU.\n",
      "WARNING:tensorflow:Layer lstm_1 will not use cuDNN kernels since it doesn't meet the criteria. It will use a generic GPU kernel as fallback when running on GPU.\n",
      "Model: \"model\"\n",
      "__________________________________________________________________________________________________\n",
      " Layer (type)                   Output Shape         Param #     Connected to                     \n",
      "==================================================================================================\n",
      " input_1 (InputLayer)           [(None, 55)]         0           []                               \n",
      "                                                                                                  \n",
      " embedding (Embedding)          (None, 55, 300)      320735400   ['input_1[0][0]']                \n",
      "                                                                                                  \n",
      " lstm (LSTM)                    (None, 55, 128)      219648      ['embedding[0][0]']              \n",
      "                                                                                                  \n",
      " lstm_1 (LSTM)                  (None, 55, 128)      131584      ['lstm[0][0]']                   \n",
      "                                                                                                  \n",
      " concatenate (Concatenate)      (None, 55, 256)      0           ['lstm[0][0]',                   \n",
      "                                                                  'lstm_1[0][0]']                 \n",
      "                                                                                                  \n",
      " global_max_pooling1d (GlobalMa  (None, 256)         0           ['concatenate[0][0]']            \n",
      " xPooling1D)                                                                                      \n",
      "                                                                                                  \n",
      " dense (Dense)                  (None, 1)            257         ['global_max_pooling1d[0][0]']   \n",
      "                                                                                                  \n",
      "==================================================================================================\n",
      "Total params: 321,086,889\n",
      "Trainable params: 351,489\n",
      "Non-trainable params: 320,735,400\n",
      "__________________________________________________________________________________________________\n",
      "None\n"
     ]
    }
   ],
   "source": [
    "from keras.layers import Flatten, Input, concatenate, GlobalMaxPooling1D\n",
    "from keras.models import Model\n",
    "\n",
    "vec_input = Input(shape=(55,))\n",
    "embedding = Embedding(num_words,300,embeddings_initializer=Constant(mat_embed),\n",
    "                   input_length=55,trainable=False)(vec_input)\n",
    "bidir1 = (LSTM(128, dropout=0.2, recurrent_dropout=0.15, return_sequences=True))(embedding)\n",
    "bidir2 = (LSTM(128, dropout=0.2, recurrent_dropout=0.15, return_sequences=True))(bidir1)\n",
    "\n",
    "x = concatenate([bidir1, bidir2])\n",
    "x = GlobalMaxPooling1D()(x)\n",
    "output = Dense(1, activation='sigmoid')(x)\n",
    "model = Model(inputs=vec_input, outputs=output)\n",
    "\n",
    "model.compile(loss='binary_crossentropy',optimizer='adam',metrics=['accuracy',f1_m])\n",
    "print(model.summary())"
   ]
  },
  {
   "cell_type": "code",
   "execution_count": null,
   "metadata": {
    "colab": {
     "base_uri": "https://localhost:8080/"
    },
    "id": "3NUu5qFSXmQ3",
    "outputId": "22b3ffde-112e-48aa-f294-a6d8d52029f1"
   },
   "outputs": [
    {
     "name": "stdout",
     "output_type": "stream",
     "text": [
      "Epoch 1/5\n",
      "782/782 [==============================] - 410s 511ms/step - loss: 0.3161 - accuracy: 0.8602 - f1_m: 0.5956 - val_loss: 0.2947 - val_accuracy: 0.8765 - val_f1_m: 0.6237\n",
      "Epoch 2/5\n",
      "782/782 [==============================] - 396s 506ms/step - loss: 0.2693 - accuracy: 0.8835 - f1_m: 0.6366 - val_loss: 0.2932 - val_accuracy: 0.8742 - val_f1_m: 0.6231\n",
      "Epoch 3/5\n",
      "782/782 [==============================] - 396s 507ms/step - loss: 0.2510 - accuracy: 0.8915 - f1_m: 0.6552 - val_loss: 0.2411 - val_accuracy: 0.8991 - val_f1_m: 0.6677\n",
      "Epoch 4/5\n",
      "782/782 [==============================] - 401s 513ms/step - loss: 0.2322 - accuracy: 0.8992 - f1_m: 0.6725 - val_loss: 0.2539 - val_accuracy: 0.8946 - val_f1_m: 0.6602\n",
      "Epoch 5/5\n",
      "782/782 [==============================] - 399s 510ms/step - loss: 0.2168 - accuracy: 0.9053 - f1_m: 0.6896 - val_loss: 0.2768 - val_accuracy: 0.8857 - val_f1_m: 0.6444\n"
     ]
    }
   ],
   "source": [
    "history=model.fit(X_train[:100000],y_train[:100000],\n",
    "                  batch_size=128,\n",
    "                  epochs=5,\n",
    "                  validation_data=(X_test[:100000],y_test[:100000]),\n",
    "                  class_weight=class_weight_dict)\n"
   ]
  },
  {
   "cell_type": "code",
   "execution_count": null,
   "metadata": {
    "id": "vEositog_kEK"
   },
   "outputs": [],
   "source": []
  }
 ],
 "metadata": {
  "accelerator": "GPU",
  "colab": {
   "collapsed_sections": [],
   "name": "Quora BiLSTM.ipynb",
   "provenance": []
  },
  "kernelspec": {
   "display_name": "Python 3",
   "language": "python",
   "name": "python3"
  },
  "language_info": {
   "codemirror_mode": {
    "name": "ipython",
    "version": 3
   },
   "file_extension": ".py",
   "mimetype": "text/x-python",
   "name": "python",
   "nbconvert_exporter": "python",
   "pygments_lexer": "ipython3",
   "version": "3.8.8"
  }
 },
 "nbformat": 4,
 "nbformat_minor": 1
}
